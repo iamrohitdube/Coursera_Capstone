{
 "cells": [
  {
   "cell_type": "markdown",
   "metadata": {
    "id": "Fjke8lGeGEsp"
   },
   "source": [
    "#**Analyzing and Predicting Traffic Accident Severity in Seattle, Washington**\n",
    "\n",
    "*Anindya Chowdhury*\n",
    "\n",
    "*September 28, 2020*\n"
   ]
  },
  {
   "cell_type": "markdown",
   "metadata": {
    "id": "Mh3Az5aiGajv"
   },
   "source": [
    "## **1.\tIntroduction**"
   ]
  },
  {
   "cell_type": "markdown",
   "metadata": {
    "id": "g5RZ3uIMGzjC"
   },
   "source": [
    "**1.1\tBackground**\n",
    "\n",
    "According to the World Health Organization (WHO), every year approximately 1.35 million people die from traffic accidents. Out of which 93% of the world’s fatalities happen in low and middle-income countries which only posses 60% of world’s vehicles. On top of it, traffic accidents are the leading causes of death among children and young adults aged 5-29 years. The seaport city of Seattle is the largest city in the state of Washington, as well as the largest in the Pacific Northwest. As of the latest census, there were 713,700 people living in Seattle. Seattle residents get around by car, trolley, streetcar, public bus, bicycle, on foot, and by rail. With such bustling streets, it is no surprise that Seattle sees car accidents every day. According to data from the Washington State Department of Transportation (WSDOT), last year, Seattle saw more than 10,315 crashes on the street.\n",
    "\n",
    "**1.2\tProblem**\n",
    "\n",
    "In 2019 only, there were 22 fatal car accidents, 190 serious injury collisions, 834 minor injuries, 2612 possible injuries and 6657 apparent injuries in the Seattle. The goal of this project is to analyze the previously occurred traffic accidents’ severity and predict severity of new accidents which will help first responders and medics prepare themselves to take care of any such disaster.\n",
    "\n",
    "\n",
    "**1.3\tInterest**\n",
    "\n",
    "Authorities like local Seattle government, police, paramedics, and public development authority will be interested in the model and its result as it might help them reduce occurrence of accidents and save life of citizens. The model might also help private companies, which are working on products related to public safety.\n",
    "\n",
    "\n"
   ]
  },
  {
   "cell_type": "code",
   "execution_count": 1,
   "metadata": {
    "id": "-nFEbxWKYVMp"
   },
   "outputs": [],
   "source": [
    "import pandas as pd\n",
    "import numpy as np\n",
    "import matplotlib.pyplot as plt\n",
    "import seaborn as sns\n",
    "from sklearn import preprocessing"
   ]
  },
  {
   "cell_type": "markdown",
   "metadata": {
    "id": "K4AUDkR2HXcD"
   },
   "source": [
    "## **2.\tData**"
   ]
  },
  {
   "cell_type": "markdown",
   "metadata": {
    "id": "DyR03RV_Hco3"
   },
   "source": [
    "**2.1\tData Sources**\n",
    "\n",
    "The dataset, we will be using in this project was downloaded from the City of Seattle Open Data portal website. Seattle Police Department and Accident Traffic Records Department collected and maintained data from 2004 to present. The data includes many columns of details of the accidents and the severity of each car accidents.\n"
   ]
  },
  {
   "cell_type": "code",
   "execution_count": 2,
   "metadata": {
    "colab": {
     "base_uri": "https://localhost:8080/",
     "height": 239
    },
    "id": "ZcuLKea3wmDE",
    "outputId": "3746fbba-1cdc-43b5-a418-318818d67bcd"
   },
   "outputs": [
    {
     "name": "stdout",
     "output_type": "stream",
     "text": [
      "--2020-10-04 05:35:18--  https://raw.githubusercontent.com/41x3n/Coursera-Capstone-Project/master/Collisions.csv\n",
      "Resolving raw.githubusercontent.com (raw.githubusercontent.com)... 151.101.0.133, 151.101.64.133, 151.101.128.133, ...\n",
      "Connecting to raw.githubusercontent.com (raw.githubusercontent.com)|151.101.0.133|:443... connected.\n",
      "HTTP request sent, awaiting response... 200 OK\n",
      "Length: 84756930 (81M) [text/plain]\n",
      "Saving to: ‘Collisions.csv’\n",
      "\n",
      "Collisions.csv      100%[===================>]  80.83M  26.2MB/s    in 3.1s    \n",
      "\n",
      "2020-10-04 05:35:22 (26.2 MB/s) - ‘Collisions.csv’ saved [84756930/84756930]\n",
      "\n"
     ]
    }
   ],
   "source": [
    "!wget https://raw.githubusercontent.com/41x3n/Coursera-Capstone-Project/master/Collisions.csv"
   ]
  },
  {
   "cell_type": "code",
   "execution_count": 3,
   "metadata": {
    "colab": {
     "base_uri": "https://localhost:8080/",
     "height": 74
    },
    "id": "aNT9yFlxvRcM",
    "outputId": "9e6380ef-0f7a-4e43-887c-baac22d167e4"
   },
   "outputs": [
    {
     "name": "stderr",
     "output_type": "stream",
     "text": [
      "/usr/local/lib/python3.6/dist-packages/IPython/core/interactiveshell.py:2718: DtypeWarning: Columns (35) have mixed types.Specify dtype option on import or set low_memory=False.\n",
      "  interactivity=interactivity, compiler=compiler, result=result)\n"
     ]
    }
   ],
   "source": [
    "df = pd.read_csv('Collisions.csv')"
   ]
  },
  {
   "cell_type": "code",
   "execution_count": 4,
   "metadata": {
    "colab": {
     "base_uri": "https://localhost:8080/",
     "height": 695
    },
    "id": "hHBeDTj1vxUO",
    "outputId": "cd955497-aa6d-4c7d-c823-632be2570bce"
   },
   "outputs": [
    {
     "data": {
      "text/html": [
       "<div>\n",
       "<style scoped>\n",
       "    .dataframe tbody tr th:only-of-type {\n",
       "        vertical-align: middle;\n",
       "    }\n",
       "\n",
       "    .dataframe tbody tr th {\n",
       "        vertical-align: top;\n",
       "    }\n",
       "\n",
       "    .dataframe thead th {\n",
       "        text-align: right;\n",
       "    }\n",
       "</style>\n",
       "<table border=\"1\" class=\"dataframe\">\n",
       "  <thead>\n",
       "    <tr style=\"text-align: right;\">\n",
       "      <th></th>\n",
       "      <th>X</th>\n",
       "      <th>Y</th>\n",
       "      <th>OBJECTID</th>\n",
       "      <th>INCKEY</th>\n",
       "      <th>COLDETKEY</th>\n",
       "      <th>REPORTNO</th>\n",
       "      <th>STATUS</th>\n",
       "      <th>ADDRTYPE</th>\n",
       "      <th>INTKEY</th>\n",
       "      <th>LOCATION</th>\n",
       "      <th>EXCEPTRSNCODE</th>\n",
       "      <th>EXCEPTRSNDESC</th>\n",
       "      <th>SEVERITYCODE</th>\n",
       "      <th>SEVERITYDESC</th>\n",
       "      <th>COLLISIONTYPE</th>\n",
       "      <th>PERSONCOUNT</th>\n",
       "      <th>PEDCOUNT</th>\n",
       "      <th>PEDCYLCOUNT</th>\n",
       "      <th>VEHCOUNT</th>\n",
       "      <th>INJURIES</th>\n",
       "      <th>SERIOUSINJURIES</th>\n",
       "      <th>FATALITIES</th>\n",
       "      <th>INCDATE</th>\n",
       "      <th>INCDTTM</th>\n",
       "      <th>JUNCTIONTYPE</th>\n",
       "      <th>SDOT_COLCODE</th>\n",
       "      <th>SDOT_COLDESC</th>\n",
       "      <th>INATTENTIONIND</th>\n",
       "      <th>UNDERINFL</th>\n",
       "      <th>WEATHER</th>\n",
       "      <th>ROADCOND</th>\n",
       "      <th>LIGHTCOND</th>\n",
       "      <th>PEDROWNOTGRNT</th>\n",
       "      <th>SDOTCOLNUM</th>\n",
       "      <th>SPEEDING</th>\n",
       "      <th>ST_COLCODE</th>\n",
       "      <th>ST_COLDESC</th>\n",
       "      <th>SEGLANEKEY</th>\n",
       "      <th>CROSSWALKKEY</th>\n",
       "      <th>HITPARKEDCAR</th>\n",
       "    </tr>\n",
       "  </thead>\n",
       "  <tbody>\n",
       "    <tr>\n",
       "      <th>0</th>\n",
       "      <td>1.268354e+06</td>\n",
       "      <td>265256.609668</td>\n",
       "      <td>1</td>\n",
       "      <td>1003</td>\n",
       "      <td>1003</td>\n",
       "      <td>3503158</td>\n",
       "      <td>Matched</td>\n",
       "      <td>Block</td>\n",
       "      <td>NaN</td>\n",
       "      <td>AURORA AVE N BETWEEN N 117TH PL AND N 125TH ST</td>\n",
       "      <td></td>\n",
       "      <td>NaN</td>\n",
       "      <td>2</td>\n",
       "      <td>Injury Collision</td>\n",
       "      <td>Cycles</td>\n",
       "      <td>2</td>\n",
       "      <td>0</td>\n",
       "      <td>1</td>\n",
       "      <td>1</td>\n",
       "      <td>1</td>\n",
       "      <td>0</td>\n",
       "      <td>0</td>\n",
       "      <td>2013/03/14 00:00:00+00</td>\n",
       "      <td>3/14/2013 5:30:00 PM</td>\n",
       "      <td>Driveway Junction</td>\n",
       "      <td>18.0</td>\n",
       "      <td>MOTOR VEHICLE STRUCK PEDALCYCLIST, FRONT END A...</td>\n",
       "      <td>NaN</td>\n",
       "      <td>N</td>\n",
       "      <td>Clear</td>\n",
       "      <td>Dry</td>\n",
       "      <td>Daylight</td>\n",
       "      <td>Y</td>\n",
       "      <td>NaN</td>\n",
       "      <td>NaN</td>\n",
       "      <td>45</td>\n",
       "      <td>Vehicle - Pedalcyclist</td>\n",
       "      <td>15057</td>\n",
       "      <td>0</td>\n",
       "      <td>N</td>\n",
       "    </tr>\n",
       "    <tr>\n",
       "      <th>1</th>\n",
       "      <td>1.259316e+06</td>\n",
       "      <td>202173.388163</td>\n",
       "      <td>2</td>\n",
       "      <td>56200</td>\n",
       "      <td>56200</td>\n",
       "      <td>1795087</td>\n",
       "      <td>Matched</td>\n",
       "      <td>Block</td>\n",
       "      <td>NaN</td>\n",
       "      <td>35TH AVE SW BETWEEN SW MORGAN ST AND SW HOLLY ST</td>\n",
       "      <td>NaN</td>\n",
       "      <td>NaN</td>\n",
       "      <td>2</td>\n",
       "      <td>Injury Collision</td>\n",
       "      <td>Pedestrian</td>\n",
       "      <td>7</td>\n",
       "      <td>1</td>\n",
       "      <td>0</td>\n",
       "      <td>1</td>\n",
       "      <td>1</td>\n",
       "      <td>0</td>\n",
       "      <td>0</td>\n",
       "      <td>2006/01/15 00:00:00+00</td>\n",
       "      <td>1/15/2006 5:35:00 PM</td>\n",
       "      <td>Mid-Block (not related to intersection)</td>\n",
       "      <td>24.0</td>\n",
       "      <td>MOTOR VEHCILE STRUCK PEDESTRIAN</td>\n",
       "      <td>NaN</td>\n",
       "      <td>0</td>\n",
       "      <td>Overcast</td>\n",
       "      <td>Dry</td>\n",
       "      <td>Dark - Street Lights On</td>\n",
       "      <td>NaN</td>\n",
       "      <td>6015003.0</td>\n",
       "      <td>NaN</td>\n",
       "      <td>0</td>\n",
       "      <td>Vehicle going straight hits pedestrian</td>\n",
       "      <td>0</td>\n",
       "      <td>0</td>\n",
       "      <td>N</td>\n",
       "    </tr>\n",
       "    <tr>\n",
       "      <th>2</th>\n",
       "      <td>1.264342e+06</td>\n",
       "      <td>259613.000382</td>\n",
       "      <td>3</td>\n",
       "      <td>327037</td>\n",
       "      <td>328537</td>\n",
       "      <td>E979380</td>\n",
       "      <td>Matched</td>\n",
       "      <td>Intersection</td>\n",
       "      <td>37122.0</td>\n",
       "      <td>3RD AVE NW AND NW 100TH ST</td>\n",
       "      <td></td>\n",
       "      <td>NaN</td>\n",
       "      <td>1</td>\n",
       "      <td>Property Damage Only Collision</td>\n",
       "      <td>Angles</td>\n",
       "      <td>2</td>\n",
       "      <td>0</td>\n",
       "      <td>0</td>\n",
       "      <td>2</td>\n",
       "      <td>0</td>\n",
       "      <td>0</td>\n",
       "      <td>0</td>\n",
       "      <td>2019/09/09 00:00:00+00</td>\n",
       "      <td>9/9/2019 3:32:00 PM</td>\n",
       "      <td>At Intersection (intersection related)</td>\n",
       "      <td>14.0</td>\n",
       "      <td>MOTOR VEHICLE STRUCK MOTOR VEHICLE, REAR END</td>\n",
       "      <td>NaN</td>\n",
       "      <td>N</td>\n",
       "      <td>Overcast</td>\n",
       "      <td>Wet</td>\n",
       "      <td>Daylight</td>\n",
       "      <td>NaN</td>\n",
       "      <td>NaN</td>\n",
       "      <td>NaN</td>\n",
       "      <td>10</td>\n",
       "      <td>Entering at angle</td>\n",
       "      <td>0</td>\n",
       "      <td>0</td>\n",
       "      <td>N</td>\n",
       "    </tr>\n",
       "    <tr>\n",
       "      <th>3</th>\n",
       "      <td>1.279221e+06</td>\n",
       "      <td>222017.872023</td>\n",
       "      <td>4</td>\n",
       "      <td>327278</td>\n",
       "      <td>328778</td>\n",
       "      <td>E996362</td>\n",
       "      <td>Unmatched</td>\n",
       "      <td>Intersection</td>\n",
       "      <td>30602.0</td>\n",
       "      <td>M L KING JR WAY S AND S JACKSON ST</td>\n",
       "      <td></td>\n",
       "      <td>NaN</td>\n",
       "      <td>1</td>\n",
       "      <td>Property Damage Only Collision</td>\n",
       "      <td>NaN</td>\n",
       "      <td>2</td>\n",
       "      <td>0</td>\n",
       "      <td>0</td>\n",
       "      <td>0</td>\n",
       "      <td>0</td>\n",
       "      <td>0</td>\n",
       "      <td>0</td>\n",
       "      <td>2019/12/19 00:00:00+00</td>\n",
       "      <td>12/19/2019</td>\n",
       "      <td>At Intersection (intersection related)</td>\n",
       "      <td>14.0</td>\n",
       "      <td>MOTOR VEHICLE STRUCK MOTOR VEHICLE, REAR END</td>\n",
       "      <td>NaN</td>\n",
       "      <td>NaN</td>\n",
       "      <td>NaN</td>\n",
       "      <td>NaN</td>\n",
       "      <td>NaN</td>\n",
       "      <td>NaN</td>\n",
       "      <td>NaN</td>\n",
       "      <td>NaN</td>\n",
       "      <td></td>\n",
       "      <td>NaN</td>\n",
       "      <td>0</td>\n",
       "      <td>0</td>\n",
       "      <td>N</td>\n",
       "    </tr>\n",
       "    <tr>\n",
       "      <th>4</th>\n",
       "      <td>1.262205e+06</td>\n",
       "      <td>242179.124204</td>\n",
       "      <td>5</td>\n",
       "      <td>1248</td>\n",
       "      <td>1248</td>\n",
       "      <td>3645424</td>\n",
       "      <td>Unmatched</td>\n",
       "      <td>Block</td>\n",
       "      <td>NaN</td>\n",
       "      <td>W EWING ST BETWEEN 6TH AVE W AND W EWING PL</td>\n",
       "      <td></td>\n",
       "      <td>NaN</td>\n",
       "      <td>0</td>\n",
       "      <td>Unknown</td>\n",
       "      <td>NaN</td>\n",
       "      <td>1</td>\n",
       "      <td>0</td>\n",
       "      <td>0</td>\n",
       "      <td>0</td>\n",
       "      <td>0</td>\n",
       "      <td>0</td>\n",
       "      <td>0</td>\n",
       "      <td>2013/03/27 00:00:00+00</td>\n",
       "      <td>3/27/2013</td>\n",
       "      <td>Mid-Block (not related to intersection)</td>\n",
       "      <td>0.0</td>\n",
       "      <td>NOT ENOUGH INFORMATION / NOT APPLICABLE</td>\n",
       "      <td>NaN</td>\n",
       "      <td>NaN</td>\n",
       "      <td>NaN</td>\n",
       "      <td>NaN</td>\n",
       "      <td>NaN</td>\n",
       "      <td>NaN</td>\n",
       "      <td>NaN</td>\n",
       "      <td>NaN</td>\n",
       "      <td></td>\n",
       "      <td>NaN</td>\n",
       "      <td>0</td>\n",
       "      <td>0</td>\n",
       "      <td>N</td>\n",
       "    </tr>\n",
       "  </tbody>\n",
       "</table>\n",
       "</div>"
      ],
      "text/plain": [
       "              X              Y  OBJECTID  ...  SEGLANEKEY  CROSSWALKKEY HITPARKEDCAR\n",
       "0  1.268354e+06  265256.609668         1  ...       15057             0            N\n",
       "1  1.259316e+06  202173.388163         2  ...           0             0            N\n",
       "2  1.264342e+06  259613.000382         3  ...           0             0            N\n",
       "3  1.279221e+06  222017.872023         4  ...           0             0            N\n",
       "4  1.262205e+06  242179.124204         5  ...           0             0            N\n",
       "\n",
       "[5 rows x 40 columns]"
      ]
     },
     "execution_count": 4,
     "metadata": {
      "tags": []
     },
     "output_type": "execute_result"
    }
   ],
   "source": [
    "df.head()"
   ]
  },
  {
   "cell_type": "code",
   "execution_count": 5,
   "metadata": {
    "colab": {
     "base_uri": "https://localhost:8080/",
     "height": 770
    },
    "id": "eUjl63RMioCl",
    "outputId": "f6bd1d9a-0fd5-4c08-8674-1dd825f6afe7"
   },
   "outputs": [
    {
     "data": {
      "text/plain": [
       "X                  float64\n",
       "Y                  float64\n",
       "OBJECTID             int64\n",
       "INCKEY               int64\n",
       "COLDETKEY            int64\n",
       "REPORTNO            object\n",
       "STATUS              object\n",
       "ADDRTYPE            object\n",
       "INTKEY             float64\n",
       "LOCATION            object\n",
       "EXCEPTRSNCODE       object\n",
       "EXCEPTRSNDESC       object\n",
       "SEVERITYCODE        object\n",
       "SEVERITYDESC        object\n",
       "COLLISIONTYPE       object\n",
       "PERSONCOUNT          int64\n",
       "PEDCOUNT             int64\n",
       "PEDCYLCOUNT          int64\n",
       "VEHCOUNT             int64\n",
       "INJURIES             int64\n",
       "SERIOUSINJURIES      int64\n",
       "FATALITIES           int64\n",
       "INCDATE             object\n",
       "INCDTTM             object\n",
       "JUNCTIONTYPE        object\n",
       "SDOT_COLCODE       float64\n",
       "SDOT_COLDESC        object\n",
       "INATTENTIONIND      object\n",
       "UNDERINFL           object\n",
       "WEATHER             object\n",
       "ROADCOND            object\n",
       "LIGHTCOND           object\n",
       "PEDROWNOTGRNT       object\n",
       "SDOTCOLNUM         float64\n",
       "SPEEDING            object\n",
       "ST_COLCODE          object\n",
       "ST_COLDESC          object\n",
       "SEGLANEKEY           int64\n",
       "CROSSWALKKEY         int64\n",
       "HITPARKEDCAR        object\n",
       "dtype: object"
      ]
     },
     "execution_count": 5,
     "metadata": {
      "tags": []
     },
     "output_type": "execute_result"
    }
   ],
   "source": [
    "df.dtypes"
   ]
  },
  {
   "cell_type": "markdown",
   "metadata": {
    "id": "87Uk3ci9H4qp"
   },
   "source": [
    "**2.2\tData Cleaning**\n",
    "\n",
    "In our quest to predict the severity of an accident, we have come across a dataset which has lots of NaN values in its original form. It has 221,525 rows and 37 columns. After inspecting the dataset carefully using the metadata PDF, I have decided that only 6 columns can help us to make a proper prediction and they are - 'HITPARKEDCAR', 'LIGHTCOND', 'ROADCOND', 'WEATHER', 'UNDERINFL', 'SEVERITYCODE'. Out of which, 'SEVERITYCODE' is the target variable.  A code that corresponds to the severity of the collision: \n",
    "\n",
    "• 3—fatality \n",
    "\n",
    "• 2b—serious injury \n",
    "\n",
    "• 2—injury \n",
    "\n",
    "• 1—prop damage \n",
    "\n",
    "• 0—unknown\n",
    "\n",
    "We will later convert the above to 0 and 1 where 0 - prop damage and 1 – injury.\n",
    "\n",
    "After dropping the rows containing NaN values and unnecessary columns, we start label encoding the columns we have:\n",
    "\n",
    "•\t'HITPARKEDCAR' - {0: 'N', 1: 'Y'}\n",
    "\n",
    "•\t'LIGHTCOND' - {0: 'Dark - No Street Lights', 1: 'Dark - Street Lights Off', 2: 'Dark - Street Lights On', 3: 'Dark - Unknown Lighting', 4: 'Dawn', 5: 'Daylight', 6: 'Dusk', 7: 'Other', 8: 'Unknown'}\n",
    "\n",
    "•\t'ROADCOND' - {0: 'Dry', 1: 'Ice', 2: 'Oil', 3: 'Other', 4: 'Sand/Mud/Dirt', 5: 'Snow/Slush', 6: 'Standing Water', 7: 'Unknown', 8: 'Wet'}\n",
    "\n",
    "•\t'WEATHER' - {0: 'Blowing Sand/Dirt', 1: 'Clear', 2: 'Fog/Smog/Smoke', 3: 'Other', 4: 'Overcast', 5: 'Partly Cloudy', 6: 'Raining', 7: 'Severe Crosswind', 8: 'Sleet/Hail/Freezing Rain', 9: 'Snowing', 10: 'Unknown'}\n",
    "\n",
    "•\t'UNDERINFL' – {0: ‘N’, 1: ‘Y’}\n"
   ]
  },
  {
   "cell_type": "code",
   "execution_count": 6,
   "metadata": {
    "colab": {
     "base_uri": "https://localhost:8080/",
     "height": 311
    },
    "id": "ZknV5mYAoTqY",
    "outputId": "12f76572-9431-454f-ba49-d35456448eb3"
   },
   "outputs": [
    {
     "name": "stdout",
     "output_type": "stream",
     "text": [
      "(221525, 8)\n"
     ]
    },
    {
     "data": {
      "text/html": [
       "<div>\n",
       "<style scoped>\n",
       "    .dataframe tbody tr th:only-of-type {\n",
       "        vertical-align: middle;\n",
       "    }\n",
       "\n",
       "    .dataframe tbody tr th {\n",
       "        vertical-align: top;\n",
       "    }\n",
       "\n",
       "    .dataframe thead th {\n",
       "        text-align: right;\n",
       "    }\n",
       "</style>\n",
       "<table border=\"1\" class=\"dataframe\">\n",
       "  <thead>\n",
       "    <tr style=\"text-align: right;\">\n",
       "      <th></th>\n",
       "      <th>INCDATE</th>\n",
       "      <th>ADDRTYPE</th>\n",
       "      <th>HITPARKEDCAR</th>\n",
       "      <th>LIGHTCOND</th>\n",
       "      <th>ROADCOND</th>\n",
       "      <th>WEATHER</th>\n",
       "      <th>UNDERINFL</th>\n",
       "      <th>SEVERITYCODE</th>\n",
       "    </tr>\n",
       "  </thead>\n",
       "  <tbody>\n",
       "    <tr>\n",
       "      <th>0</th>\n",
       "      <td>2013/03/14 00:00:00+00</td>\n",
       "      <td>Block</td>\n",
       "      <td>N</td>\n",
       "      <td>Daylight</td>\n",
       "      <td>Dry</td>\n",
       "      <td>Clear</td>\n",
       "      <td>N</td>\n",
       "      <td>2</td>\n",
       "    </tr>\n",
       "    <tr>\n",
       "      <th>1</th>\n",
       "      <td>2006/01/15 00:00:00+00</td>\n",
       "      <td>Block</td>\n",
       "      <td>N</td>\n",
       "      <td>Dark - Street Lights On</td>\n",
       "      <td>Dry</td>\n",
       "      <td>Overcast</td>\n",
       "      <td>0</td>\n",
       "      <td>2</td>\n",
       "    </tr>\n",
       "    <tr>\n",
       "      <th>2</th>\n",
       "      <td>2019/09/09 00:00:00+00</td>\n",
       "      <td>Intersection</td>\n",
       "      <td>N</td>\n",
       "      <td>Daylight</td>\n",
       "      <td>Wet</td>\n",
       "      <td>Overcast</td>\n",
       "      <td>N</td>\n",
       "      <td>1</td>\n",
       "    </tr>\n",
       "    <tr>\n",
       "      <th>3</th>\n",
       "      <td>2019/12/19 00:00:00+00</td>\n",
       "      <td>Intersection</td>\n",
       "      <td>N</td>\n",
       "      <td>NaN</td>\n",
       "      <td>NaN</td>\n",
       "      <td>NaN</td>\n",
       "      <td>NaN</td>\n",
       "      <td>1</td>\n",
       "    </tr>\n",
       "    <tr>\n",
       "      <th>4</th>\n",
       "      <td>2013/03/27 00:00:00+00</td>\n",
       "      <td>Block</td>\n",
       "      <td>N</td>\n",
       "      <td>NaN</td>\n",
       "      <td>NaN</td>\n",
       "      <td>NaN</td>\n",
       "      <td>NaN</td>\n",
       "      <td>0</td>\n",
       "    </tr>\n",
       "  </tbody>\n",
       "</table>\n",
       "</div>"
      ],
      "text/plain": [
       "                  INCDATE      ADDRTYPE  ... UNDERINFL SEVERITYCODE\n",
       "0  2013/03/14 00:00:00+00         Block  ...         N            2\n",
       "1  2006/01/15 00:00:00+00         Block  ...         0            2\n",
       "2  2019/09/09 00:00:00+00  Intersection  ...         N            1\n",
       "3  2019/12/19 00:00:00+00  Intersection  ...       NaN            1\n",
       "4  2013/03/27 00:00:00+00         Block  ...       NaN            0\n",
       "\n",
       "[5 rows x 8 columns]"
      ]
     },
     "execution_count": 6,
     "metadata": {
      "tags": []
     },
     "output_type": "execute_result"
    }
   ],
   "source": [
    "df = df[[ 'INCDATE', 'ADDRTYPE', 'HITPARKEDCAR', 'LIGHTCOND', 'ROADCOND', 'WEATHER', 'UNDERINFL', 'SEVERITYCODE']]\n",
    "print(df.shape)\n",
    "df.head()"
   ]
  },
  {
   "cell_type": "code",
   "execution_count": 7,
   "metadata": {
    "colab": {
     "base_uri": "https://localhost:8080/",
     "height": 182
    },
    "id": "mhko18Uh1u0P",
    "outputId": "0855f436-1b34-4436-e687-71480d171a30"
   },
   "outputs": [
    {
     "data": {
      "text/plain": [
       "INCDATE         221525\n",
       "ADDRTYPE        217813\n",
       "HITPARKEDCAR    221525\n",
       "LIGHTCOND       194933\n",
       "ROADCOND        195103\n",
       "WEATHER         195022\n",
       "UNDERINFL       195232\n",
       "SEVERITYCODE    221524\n",
       "dtype: int64"
      ]
     },
     "execution_count": 7,
     "metadata": {
      "tags": []
     },
     "output_type": "execute_result"
    }
   ],
   "source": [
    "df.count()"
   ]
  },
  {
   "cell_type": "code",
   "execution_count": 8,
   "metadata": {
    "colab": {
     "base_uri": "https://localhost:8080/",
     "height": 182
    },
    "id": "1eKbdeD7fBiW",
    "outputId": "f5440946-687b-437e-bf6f-2c401102191a"
   },
   "outputs": [
    {
     "data": {
      "text/plain": [
       "INCDATE         192934\n",
       "ADDRTYPE        192934\n",
       "HITPARKEDCAR    192934\n",
       "LIGHTCOND       192934\n",
       "ROADCOND        192934\n",
       "WEATHER         192934\n",
       "UNDERINFL       192934\n",
       "SEVERITYCODE    192934\n",
       "dtype: int64"
      ]
     },
     "execution_count": 8,
     "metadata": {
      "tags": []
     },
     "output_type": "execute_result"
    }
   ],
   "source": [
    "df = df.dropna()\n",
    "df.count()"
   ]
  },
  {
   "cell_type": "code",
   "execution_count": 9,
   "metadata": {
    "id": "gUUald-npkUB"
   },
   "outputs": [],
   "source": [
    "df['INCDATE'] = pd.to_datetime(df['INCDATE']).dt.date"
   ]
  },
  {
   "cell_type": "code",
   "execution_count": 10,
   "metadata": {
    "id": "wgB9BWyXEv0t"
   },
   "outputs": [],
   "source": [
    "analysis = df.copy()"
   ]
  },
  {
   "cell_type": "code",
   "execution_count": 11,
   "metadata": {
    "colab": {
     "base_uri": "https://localhost:8080/",
     "height": 90
    },
    "id": "OOQ-GA-zpax3",
    "outputId": "da9c6847-a265-4ec8-90ab-4b1d340c2244"
   },
   "outputs": [
    {
     "data": {
      "text/plain": [
       "Block           126269\n",
       "Intersection     65910\n",
       "Alley              755\n",
       "Name: ADDRTYPE, dtype: int64"
      ]
     },
     "execution_count": 11,
     "metadata": {
      "tags": []
     },
     "output_type": "execute_result"
    }
   ],
   "source": [
    "df['ADDRTYPE'].value_counts()"
   ]
  },
  {
   "cell_type": "code",
   "execution_count": 12,
   "metadata": {
    "colab": {
     "base_uri": "https://localhost:8080/",
     "height": 72
    },
    "id": "zueewlDO3JKO",
    "outputId": "7082f3d5-d5cf-42d6-a796-2037b88bde34"
   },
   "outputs": [
    {
     "data": {
      "text/plain": [
       "N    185987\n",
       "Y      6947\n",
       "Name: HITPARKEDCAR, dtype: int64"
      ]
     },
     "execution_count": 12,
     "metadata": {
      "tags": []
     },
     "output_type": "execute_result"
    }
   ],
   "source": [
    "df['HITPARKEDCAR'].value_counts()"
   ]
  },
  {
   "cell_type": "code",
   "execution_count": 13,
   "metadata": {
    "colab": {
     "base_uri": "https://localhost:8080/",
     "height": 90
    },
    "id": "BAvaqufIlAAz",
    "outputId": "b0ad3435-fd4f-4dd0-e854-a586f3d53e13"
   },
   "outputs": [
    {
     "name": "stdout",
     "output_type": "stream",
     "text": [
      "{0: 'N', 1: 'Y'}\n"
     ]
    },
    {
     "data": {
      "text/plain": [
       "0    185987\n",
       "1      6947\n",
       "Name: HITPARKEDCAR, dtype: int64"
      ]
     },
     "execution_count": 13,
     "metadata": {
      "tags": []
     },
     "output_type": "execute_result"
    }
   ],
   "source": [
    "c = df.HITPARKEDCAR.astype('category')\n",
    "\n",
    "d = dict(enumerate(c.cat.categories))\n",
    "print(d)\n",
    "df['HITPARKEDCAR'] = df.HITPARKEDCAR.astype('category').cat.codes\n",
    "df['HITPARKEDCAR'].value_counts()"
   ]
  },
  {
   "cell_type": "code",
   "execution_count": 14,
   "metadata": {
    "colab": {
     "base_uri": "https://localhost:8080/",
     "height": 201
    },
    "id": "yLtuvG6-6IXI",
    "outputId": "8ef29742-747a-4f6c-9fff-21759786a17b"
   },
   "outputs": [
    {
     "data": {
      "text/plain": [
       "Daylight                    118755\n",
       "Dark - Street Lights On      49851\n",
       "Unknown                      12658\n",
       "Dusk                          6023\n",
       "Dawn                          2597\n",
       "Dark - No Street Lights       1568\n",
       "Dark - Street Lights Off      1224\n",
       "Other                          235\n",
       "Dark - Unknown Lighting         23\n",
       "Name: LIGHTCOND, dtype: int64"
      ]
     },
     "execution_count": 14,
     "metadata": {
      "tags": []
     },
     "output_type": "execute_result"
    }
   ],
   "source": [
    "df['LIGHTCOND'].value_counts()"
   ]
  },
  {
   "cell_type": "code",
   "execution_count": 15,
   "metadata": {
    "colab": {
     "base_uri": "https://localhost:8080/",
     "height": 239
    },
    "id": "sEOQUSxYn8v2",
    "outputId": "89c4649c-2e97-4a02-a789-47250b4b3975"
   },
   "outputs": [
    {
     "name": "stdout",
     "output_type": "stream",
     "text": [
      "{0: 'Dark - No Street Lights', 1: 'Dark - Street Lights Off', 2: 'Dark - Street Lights On', 3: 'Dark - Unknown Lighting', 4: 'Dawn', 5: 'Daylight', 6: 'Dusk', 7: 'Other', 8: 'Unknown'}\n"
     ]
    },
    {
     "data": {
      "text/plain": [
       "5    118755\n",
       "2     49851\n",
       "8     12658\n",
       "6      6023\n",
       "4      2597\n",
       "0      1568\n",
       "1      1224\n",
       "7       235\n",
       "3        23\n",
       "Name: LIGHTCOND, dtype: int64"
      ]
     },
     "execution_count": 15,
     "metadata": {
      "tags": []
     },
     "output_type": "execute_result"
    }
   ],
   "source": [
    "c = df.LIGHTCOND.astype('category')\n",
    "\n",
    "d = dict(enumerate(c.cat.categories))\n",
    "print(d)\n",
    "df['LIGHTCOND'] = df.LIGHTCOND.astype('category').cat.codes\n",
    "df['LIGHTCOND'].value_counts()"
   ]
  },
  {
   "cell_type": "code",
   "execution_count": 16,
   "metadata": {
    "colab": {
     "base_uri": "https://localhost:8080/",
     "height": 201
    },
    "id": "ogmxU85T-WhP",
    "outputId": "0432fa37-30e6-4f09-bb9e-34668705b6a5"
   },
   "outputs": [
    {
     "data": {
      "text/plain": [
       "Dry               127790\n",
       "Wet                48475\n",
       "Unknown            14069\n",
       "Ice                 1216\n",
       "Snow/Slush          1002\n",
       "Other                128\n",
       "Standing Water       115\n",
       "Sand/Mud/Dirt         75\n",
       "Oil                   64\n",
       "Name: ROADCOND, dtype: int64"
      ]
     },
     "execution_count": 16,
     "metadata": {
      "tags": []
     },
     "output_type": "execute_result"
    }
   ],
   "source": [
    "df['ROADCOND'].value_counts()"
   ]
  },
  {
   "cell_type": "code",
   "execution_count": 17,
   "metadata": {
    "colab": {
     "base_uri": "https://localhost:8080/",
     "height": 239
    },
    "id": "zwYkRNbCogKW",
    "outputId": "8e3a899f-a77b-4a15-b19a-0e93075a1099"
   },
   "outputs": [
    {
     "name": "stdout",
     "output_type": "stream",
     "text": [
      "{0: 'Dry', 1: 'Ice', 2: 'Oil', 3: 'Other', 4: 'Sand/Mud/Dirt', 5: 'Snow/Slush', 6: 'Standing Water', 7: 'Unknown', 8: 'Wet'}\n"
     ]
    },
    {
     "data": {
      "text/plain": [
       "0    127790\n",
       "8     48475\n",
       "7     14069\n",
       "1      1216\n",
       "5      1002\n",
       "3       128\n",
       "6       115\n",
       "4        75\n",
       "2        64\n",
       "Name: ROADCOND, dtype: int64"
      ]
     },
     "execution_count": 17,
     "metadata": {
      "tags": []
     },
     "output_type": "execute_result"
    }
   ],
   "source": [
    "c = df.ROADCOND.astype('category')\n",
    "\n",
    "d = dict(enumerate(c.cat.categories))\n",
    "print(d)\n",
    "df['ROADCOND'] = df.ROADCOND.astype('category').cat.codes\n",
    "df['ROADCOND'].value_counts()"
   ]
  },
  {
   "cell_type": "code",
   "execution_count": 18,
   "metadata": {
    "colab": {
     "base_uri": "https://localhost:8080/",
     "height": 237
    },
    "id": "11iMEW96-XJ7",
    "outputId": "8a9e55be-c673-40ea-8f50-3ede574f6d91"
   },
   "outputs": [
    {
     "data": {
      "text/plain": [
       "Clear                       114088\n",
       "Raining                      33864\n",
       "Overcast                     28386\n",
       "Unknown                      14099\n",
       "Snowing                        908\n",
       "Other                          818\n",
       "Fog/Smog/Smoke                 571\n",
       "Sleet/Hail/Freezing Rain       115\n",
       "Blowing Sand/Dirt               49\n",
       "Severe Crosswind                26\n",
       "Partly Cloudy                   10\n",
       "Name: WEATHER, dtype: int64"
      ]
     },
     "execution_count": 18,
     "metadata": {
      "tags": []
     },
     "output_type": "execute_result"
    }
   ],
   "source": [
    "df['WEATHER'].value_counts()"
   ]
  },
  {
   "cell_type": "code",
   "execution_count": 19,
   "metadata": {
    "colab": {
     "base_uri": "https://localhost:8080/",
     "height": 276
    },
    "id": "rRLS29Y2o7UD",
    "outputId": "9f4fa05a-60bc-4564-f4d9-434c863e7094"
   },
   "outputs": [
    {
     "name": "stdout",
     "output_type": "stream",
     "text": [
      "{0: 'Blowing Sand/Dirt', 1: 'Clear', 2: 'Fog/Smog/Smoke', 3: 'Other', 4: 'Overcast', 5: 'Partly Cloudy', 6: 'Raining', 7: 'Severe Crosswind', 8: 'Sleet/Hail/Freezing Rain', 9: 'Snowing', 10: 'Unknown'}\n"
     ]
    },
    {
     "data": {
      "text/plain": [
       "1     114088\n",
       "6      33864\n",
       "4      28386\n",
       "10     14099\n",
       "9        908\n",
       "3        818\n",
       "2        571\n",
       "8        115\n",
       "0         49\n",
       "7         26\n",
       "5         10\n",
       "Name: WEATHER, dtype: int64"
      ]
     },
     "execution_count": 19,
     "metadata": {
      "tags": []
     },
     "output_type": "execute_result"
    }
   ],
   "source": [
    "c = df.WEATHER.astype('category')\n",
    "\n",
    "d = dict(enumerate(c.cat.categories))\n",
    "print(d)\n",
    "df['WEATHER'] = df.WEATHER.astype('category').cat.codes\n",
    "df['WEATHER'].value_counts()"
   ]
  },
  {
   "cell_type": "code",
   "execution_count": 20,
   "metadata": {
    "colab": {
     "base_uri": "https://localhost:8080/",
     "height": 109
    },
    "id": "l8M3S-9P-soC",
    "outputId": "08000154-2b5e-4d23-b4be-43c679694a2a"
   },
   "outputs": [
    {
     "data": {
      "text/plain": [
       "N    102374\n",
       "0     80988\n",
       "Y      5346\n",
       "1      4226\n",
       "Name: UNDERINFL, dtype: int64"
      ]
     },
     "execution_count": 20,
     "metadata": {
      "tags": []
     },
     "output_type": "execute_result"
    }
   ],
   "source": [
    "df['UNDERINFL'].value_counts()"
   ]
  },
  {
   "cell_type": "code",
   "execution_count": 21,
   "metadata": {
    "colab": {
     "base_uri": "https://localhost:8080/",
     "height": 72
    },
    "id": "-eer_4mdpQfX",
    "outputId": "a6753ccb-8241-4961-9873-6e9b3da9e68d"
   },
   "outputs": [
    {
     "data": {
      "text/plain": [
       "0    183362\n",
       "1      9572\n",
       "Name: UNDERINFL, dtype: int64"
      ]
     },
     "execution_count": 21,
     "metadata": {
      "tags": []
     },
     "output_type": "execute_result"
    }
   ],
   "source": [
    "df[\"UNDERINFL\"].replace(\"N\", 0, inplace=True)\n",
    "df[\"UNDERINFL\"].replace(\"Y\", 1, inplace=True)\n",
    "df[\"UNDERINFL\"].replace(\"0\", 0, inplace=True)\n",
    "df[\"UNDERINFL\"].replace(\"1\", 1, inplace=True)\n",
    "df['UNDERINFL'].value_counts()"
   ]
  },
  {
   "cell_type": "code",
   "execution_count": 22,
   "metadata": {
    "colab": {
     "base_uri": "https://localhost:8080/",
     "height": 127
    },
    "id": "1B3I0eDV-tRw",
    "outputId": "dba934c2-aca3-47ba-8b54-5fe288f48608"
   },
   "outputs": [
    {
     "data": {
      "text/plain": [
       "1     131959\n",
       "2      57588\n",
       "2b      3047\n",
       "3        339\n",
       "0          1\n",
       "Name: SEVERITYCODE, dtype: int64"
      ]
     },
     "execution_count": 22,
     "metadata": {
      "tags": []
     },
     "output_type": "execute_result"
    }
   ],
   "source": [
    "df['SEVERITYCODE'].value_counts()"
   ]
  },
  {
   "cell_type": "code",
   "execution_count": 23,
   "metadata": {
    "id": "jl9ZY9f95QK9"
   },
   "outputs": [],
   "source": [
    "df[\"SEVERITYCODE\"].replace(\"2b\", 1, inplace=True)\n",
    "df[\"SEVERITYCODE\"].replace(\"3\", 1, inplace=True)\n",
    "df[\"SEVERITYCODE\"].replace(\"0\", 1, inplace=True)\n",
    "df[\"SEVERITYCODE\"].replace(\"2\", 1, inplace=True)\n",
    "df[\"SEVERITYCODE\"].replace(\"1\", 0, inplace=True)"
   ]
  },
  {
   "cell_type": "code",
   "execution_count": 24,
   "metadata": {
    "colab": {
     "base_uri": "https://localhost:8080/",
     "height": 72
    },
    "id": "0oS0czt05v13",
    "outputId": "7434e3ee-907a-4aa2-b777-17da80161453"
   },
   "outputs": [
    {
     "data": {
      "text/plain": [
       "0    131959\n",
       "1     60975\n",
       "Name: SEVERITYCODE, dtype: int64"
      ]
     },
     "execution_count": 24,
     "metadata": {
      "tags": []
     },
     "output_type": "execute_result"
    }
   ],
   "source": [
    "df['SEVERITYCODE'].value_counts()"
   ]
  },
  {
   "cell_type": "code",
   "execution_count": 25,
   "metadata": {
    "colab": {
     "base_uri": "https://localhost:8080/",
     "height": 206
    },
    "id": "GCPxDqDarPTT",
    "outputId": "388198b5-48a0-4e87-ac1a-8c690553556b"
   },
   "outputs": [
    {
     "data": {
      "text/html": [
       "<div>\n",
       "<style scoped>\n",
       "    .dataframe tbody tr th:only-of-type {\n",
       "        vertical-align: middle;\n",
       "    }\n",
       "\n",
       "    .dataframe tbody tr th {\n",
       "        vertical-align: top;\n",
       "    }\n",
       "\n",
       "    .dataframe thead th {\n",
       "        text-align: right;\n",
       "    }\n",
       "</style>\n",
       "<table border=\"1\" class=\"dataframe\">\n",
       "  <thead>\n",
       "    <tr style=\"text-align: right;\">\n",
       "      <th></th>\n",
       "      <th>INCDATE</th>\n",
       "      <th>ADDRTYPE</th>\n",
       "      <th>HITPARKEDCAR</th>\n",
       "      <th>LIGHTCOND</th>\n",
       "      <th>ROADCOND</th>\n",
       "      <th>WEATHER</th>\n",
       "      <th>UNDERINFL</th>\n",
       "      <th>SEVERITYCODE</th>\n",
       "    </tr>\n",
       "  </thead>\n",
       "  <tbody>\n",
       "    <tr>\n",
       "      <th>221519</th>\n",
       "      <td>2019-10-30</td>\n",
       "      <td>Block</td>\n",
       "      <td>0</td>\n",
       "      <td>6</td>\n",
       "      <td>0</td>\n",
       "      <td>1</td>\n",
       "      <td>1</td>\n",
       "      <td>1</td>\n",
       "    </tr>\n",
       "    <tr>\n",
       "      <th>221520</th>\n",
       "      <td>2019-11-27</td>\n",
       "      <td>Block</td>\n",
       "      <td>0</td>\n",
       "      <td>5</td>\n",
       "      <td>0</td>\n",
       "      <td>1</td>\n",
       "      <td>0</td>\n",
       "      <td>1</td>\n",
       "    </tr>\n",
       "    <tr>\n",
       "      <th>221521</th>\n",
       "      <td>2019-12-08</td>\n",
       "      <td>Block</td>\n",
       "      <td>1</td>\n",
       "      <td>5</td>\n",
       "      <td>0</td>\n",
       "      <td>4</td>\n",
       "      <td>0</td>\n",
       "      <td>0</td>\n",
       "    </tr>\n",
       "    <tr>\n",
       "      <th>221522</th>\n",
       "      <td>2019-09-28</td>\n",
       "      <td>Block</td>\n",
       "      <td>1</td>\n",
       "      <td>5</td>\n",
       "      <td>0</td>\n",
       "      <td>1</td>\n",
       "      <td>0</td>\n",
       "      <td>0</td>\n",
       "    </tr>\n",
       "    <tr>\n",
       "      <th>221523</th>\n",
       "      <td>2019-11-06</td>\n",
       "      <td>Intersection</td>\n",
       "      <td>0</td>\n",
       "      <td>5</td>\n",
       "      <td>0</td>\n",
       "      <td>1</td>\n",
       "      <td>0</td>\n",
       "      <td>0</td>\n",
       "    </tr>\n",
       "  </tbody>\n",
       "</table>\n",
       "</div>"
      ],
      "text/plain": [
       "           INCDATE      ADDRTYPE  ...  UNDERINFL  SEVERITYCODE\n",
       "221519  2019-10-30         Block  ...          1             1\n",
       "221520  2019-11-27         Block  ...          0             1\n",
       "221521  2019-12-08         Block  ...          0             0\n",
       "221522  2019-09-28         Block  ...          0             0\n",
       "221523  2019-11-06  Intersection  ...          0             0\n",
       "\n",
       "[5 rows x 8 columns]"
      ]
     },
     "execution_count": 25,
     "metadata": {
      "tags": []
     },
     "output_type": "execute_result"
    }
   ],
   "source": [
    "df.tail()"
   ]
  },
  {
   "cell_type": "markdown",
   "metadata": {
    "id": "lc4qcBqTHxB0"
   },
   "source": [
    "**2.3\tFeature Selection**\n",
    "\n",
    "A total of 5 features were selected to predict the target variable which is the 'SEVERITYCODE'.\n",
    "\n",
    "•\t'HITPARKEDCAR' - Whether the collision involved hitting a parked car. (Y/N)\n",
    "\n",
    "•\t'LIGHTCOND' - The light conditions during the collision.\n",
    "\n",
    "•\t'ROADCOND' - The condition of the road during the collision.\n",
    "\n",
    "•\t'WEATHER' - A description of the weather conditions during the time of the collision.\n",
    "\n",
    "•\t'UNDERINFL' – Whether or not a driver involved was under the influence of drugs or alcohol.\n"
   ]
  },
  {
   "cell_type": "code",
   "execution_count": 26,
   "metadata": {
    "colab": {
     "base_uri": "https://localhost:8080/",
     "height": 225
    },
    "id": "UB8B0rRbx0IY",
    "outputId": "f39242e9-a406-434d-defe-cba69e450ac9"
   },
   "outputs": [
    {
     "name": "stdout",
     "output_type": "stream",
     "text": [
      "(192934, 5)\n"
     ]
    },
    {
     "data": {
      "text/html": [
       "<div>\n",
       "<style scoped>\n",
       "    .dataframe tbody tr th:only-of-type {\n",
       "        vertical-align: middle;\n",
       "    }\n",
       "\n",
       "    .dataframe tbody tr th {\n",
       "        vertical-align: top;\n",
       "    }\n",
       "\n",
       "    .dataframe thead th {\n",
       "        text-align: right;\n",
       "    }\n",
       "</style>\n",
       "<table border=\"1\" class=\"dataframe\">\n",
       "  <thead>\n",
       "    <tr style=\"text-align: right;\">\n",
       "      <th></th>\n",
       "      <th>HITPARKEDCAR</th>\n",
       "      <th>LIGHTCOND</th>\n",
       "      <th>ROADCOND</th>\n",
       "      <th>WEATHER</th>\n",
       "      <th>UNDERINFL</th>\n",
       "    </tr>\n",
       "  </thead>\n",
       "  <tbody>\n",
       "    <tr>\n",
       "      <th>0</th>\n",
       "      <td>0</td>\n",
       "      <td>5</td>\n",
       "      <td>0</td>\n",
       "      <td>1</td>\n",
       "      <td>0</td>\n",
       "    </tr>\n",
       "    <tr>\n",
       "      <th>1</th>\n",
       "      <td>0</td>\n",
       "      <td>2</td>\n",
       "      <td>0</td>\n",
       "      <td>4</td>\n",
       "      <td>0</td>\n",
       "    </tr>\n",
       "    <tr>\n",
       "      <th>2</th>\n",
       "      <td>0</td>\n",
       "      <td>5</td>\n",
       "      <td>8</td>\n",
       "      <td>4</td>\n",
       "      <td>0</td>\n",
       "    </tr>\n",
       "    <tr>\n",
       "      <th>5</th>\n",
       "      <td>0</td>\n",
       "      <td>5</td>\n",
       "      <td>0</td>\n",
       "      <td>1</td>\n",
       "      <td>0</td>\n",
       "    </tr>\n",
       "    <tr>\n",
       "      <th>6</th>\n",
       "      <td>0</td>\n",
       "      <td>5</td>\n",
       "      <td>0</td>\n",
       "      <td>1</td>\n",
       "      <td>0</td>\n",
       "    </tr>\n",
       "  </tbody>\n",
       "</table>\n",
       "</div>"
      ],
      "text/plain": [
       "   HITPARKEDCAR  LIGHTCOND  ROADCOND  WEATHER  UNDERINFL\n",
       "0             0          5         0        1          0\n",
       "1             0          2         0        4          0\n",
       "2             0          5         8        4          0\n",
       "5             0          5         0        1          0\n",
       "6             0          5         0        1          0"
      ]
     },
     "execution_count": 26,
     "metadata": {
      "tags": []
     },
     "output_type": "execute_result"
    }
   ],
   "source": [
    "# HITPARKEDCAR SPEEDING PEDROWNOTGRNT LIGHTCOND ROADCOND WEATHER UNDERINFL INATTENTIONIND \n",
    "# SEVERITYCODE\n",
    "\n",
    "feature_df = df[[ 'HITPARKEDCAR', 'LIGHTCOND', 'ROADCOND', 'WEATHER', 'UNDERINFL']]\n",
    "print(feature_df.shape)\n",
    "feature_df.head()"
   ]
  },
  {
   "cell_type": "code",
   "execution_count": 27,
   "metadata": {
    "colab": {
     "base_uri": "https://localhost:8080/",
     "height": 225
    },
    "id": "UbKzWfiOXOOb",
    "outputId": "e01fe1bb-f82e-44ab-adf0-059fe924a868"
   },
   "outputs": [
    {
     "name": "stdout",
     "output_type": "stream",
     "text": [
      "(192934, 1)\n"
     ]
    },
    {
     "data": {
      "text/html": [
       "<div>\n",
       "<style scoped>\n",
       "    .dataframe tbody tr th:only-of-type {\n",
       "        vertical-align: middle;\n",
       "    }\n",
       "\n",
       "    .dataframe tbody tr th {\n",
       "        vertical-align: top;\n",
       "    }\n",
       "\n",
       "    .dataframe thead th {\n",
       "        text-align: right;\n",
       "    }\n",
       "</style>\n",
       "<table border=\"1\" class=\"dataframe\">\n",
       "  <thead>\n",
       "    <tr style=\"text-align: right;\">\n",
       "      <th></th>\n",
       "      <th>SEVERITYCODE</th>\n",
       "    </tr>\n",
       "  </thead>\n",
       "  <tbody>\n",
       "    <tr>\n",
       "      <th>0</th>\n",
       "      <td>1</td>\n",
       "    </tr>\n",
       "    <tr>\n",
       "      <th>1</th>\n",
       "      <td>1</td>\n",
       "    </tr>\n",
       "    <tr>\n",
       "      <th>2</th>\n",
       "      <td>0</td>\n",
       "    </tr>\n",
       "    <tr>\n",
       "      <th>5</th>\n",
       "      <td>1</td>\n",
       "    </tr>\n",
       "    <tr>\n",
       "      <th>6</th>\n",
       "      <td>0</td>\n",
       "    </tr>\n",
       "  </tbody>\n",
       "</table>\n",
       "</div>"
      ],
      "text/plain": [
       "   SEVERITYCODE\n",
       "0             1\n",
       "1             1\n",
       "2             0\n",
       "5             1\n",
       "6             0"
      ]
     },
     "execution_count": 27,
     "metadata": {
      "tags": []
     },
     "output_type": "execute_result"
    }
   ],
   "source": [
    "target_df = df[['SEVERITYCODE']]\n",
    "print(target_df.shape)\n",
    "target_df.head()"
   ]
  },
  {
   "cell_type": "markdown",
   "metadata": {
    "id": "HPSOcxaZR5Dd"
   },
   "source": [
    "## **3.\t Methodology**"
   ]
  },
  {
   "cell_type": "markdown",
   "metadata": {
    "id": "ziqXHCmHrZ7r"
   },
   "source": [
    "**3.1\tExploratory Analysis**"
   ]
  },
  {
   "cell_type": "code",
   "execution_count": 28,
   "metadata": {
    "colab": {
     "base_uri": "https://localhost:8080/",
     "height": 206
    },
    "id": "oJCS0uc-ranI",
    "outputId": "015a628a-e339-4542-e524-c9822137159f"
   },
   "outputs": [
    {
     "data": {
      "text/html": [
       "<div>\n",
       "<style scoped>\n",
       "    .dataframe tbody tr th:only-of-type {\n",
       "        vertical-align: middle;\n",
       "    }\n",
       "\n",
       "    .dataframe tbody tr th {\n",
       "        vertical-align: top;\n",
       "    }\n",
       "\n",
       "    .dataframe thead th {\n",
       "        text-align: right;\n",
       "    }\n",
       "</style>\n",
       "<table border=\"1\" class=\"dataframe\">\n",
       "  <thead>\n",
       "    <tr style=\"text-align: right;\">\n",
       "      <th></th>\n",
       "      <th>INCDATE</th>\n",
       "      <th>ADDRTYPE</th>\n",
       "      <th>HITPARKEDCAR</th>\n",
       "      <th>LIGHTCOND</th>\n",
       "      <th>ROADCOND</th>\n",
       "      <th>WEATHER</th>\n",
       "      <th>UNDERINFL</th>\n",
       "      <th>SEVERITYCODE</th>\n",
       "    </tr>\n",
       "  </thead>\n",
       "  <tbody>\n",
       "    <tr>\n",
       "      <th>0</th>\n",
       "      <td>2013-03-14</td>\n",
       "      <td>Block</td>\n",
       "      <td>N</td>\n",
       "      <td>Daylight</td>\n",
       "      <td>Dry</td>\n",
       "      <td>Clear</td>\n",
       "      <td>N</td>\n",
       "      <td>2</td>\n",
       "    </tr>\n",
       "    <tr>\n",
       "      <th>1</th>\n",
       "      <td>2006-01-15</td>\n",
       "      <td>Block</td>\n",
       "      <td>N</td>\n",
       "      <td>Dark - Street Lights On</td>\n",
       "      <td>Dry</td>\n",
       "      <td>Overcast</td>\n",
       "      <td>0</td>\n",
       "      <td>2</td>\n",
       "    </tr>\n",
       "    <tr>\n",
       "      <th>2</th>\n",
       "      <td>2019-09-09</td>\n",
       "      <td>Intersection</td>\n",
       "      <td>N</td>\n",
       "      <td>Daylight</td>\n",
       "      <td>Wet</td>\n",
       "      <td>Overcast</td>\n",
       "      <td>N</td>\n",
       "      <td>1</td>\n",
       "    </tr>\n",
       "    <tr>\n",
       "      <th>5</th>\n",
       "      <td>2005-07-07</td>\n",
       "      <td>Intersection</td>\n",
       "      <td>N</td>\n",
       "      <td>Daylight</td>\n",
       "      <td>Dry</td>\n",
       "      <td>Clear</td>\n",
       "      <td>0</td>\n",
       "      <td>2</td>\n",
       "    </tr>\n",
       "    <tr>\n",
       "      <th>6</th>\n",
       "      <td>2020-07-31</td>\n",
       "      <td>Intersection</td>\n",
       "      <td>N</td>\n",
       "      <td>Daylight</td>\n",
       "      <td>Dry</td>\n",
       "      <td>Clear</td>\n",
       "      <td>N</td>\n",
       "      <td>1</td>\n",
       "    </tr>\n",
       "  </tbody>\n",
       "</table>\n",
       "</div>"
      ],
      "text/plain": [
       "      INCDATE      ADDRTYPE HITPARKEDCAR  ...   WEATHER UNDERINFL SEVERITYCODE\n",
       "0  2013-03-14         Block            N  ...     Clear         N            2\n",
       "1  2006-01-15         Block            N  ...  Overcast         0            2\n",
       "2  2019-09-09  Intersection            N  ...  Overcast         N            1\n",
       "5  2005-07-07  Intersection            N  ...     Clear         0            2\n",
       "6  2020-07-31  Intersection            N  ...     Clear         N            1\n",
       "\n",
       "[5 rows x 8 columns]"
      ]
     },
     "execution_count": 28,
     "metadata": {
      "tags": []
     },
     "output_type": "execute_result"
    }
   ],
   "source": [
    "analysis.head()"
   ]
  },
  {
   "cell_type": "code",
   "execution_count": 29,
   "metadata": {
    "colab": {
     "base_uri": "https://localhost:8080/",
     "height": 261
    },
    "id": "NZb1imjjqaEY",
    "outputId": "ecc92337-575e-4b15-cce2-50e963181d1f"
   },
   "outputs": [
    {
     "data": {
      "text/html": [
       "<div>\n",
       "<style scoped>\n",
       "    .dataframe tbody tr th:only-of-type {\n",
       "        vertical-align: middle;\n",
       "    }\n",
       "\n",
       "    .dataframe tbody tr th {\n",
       "        vertical-align: top;\n",
       "    }\n",
       "\n",
       "    .dataframe thead th {\n",
       "        text-align: right;\n",
       "    }\n",
       "</style>\n",
       "<table border=\"1\" class=\"dataframe\">\n",
       "  <thead>\n",
       "    <tr style=\"text-align: right;\">\n",
       "      <th></th>\n",
       "      <th>INCDATE</th>\n",
       "      <th>ADDRTYPE</th>\n",
       "      <th>HITPARKEDCAR</th>\n",
       "      <th>LIGHTCOND</th>\n",
       "      <th>ROADCOND</th>\n",
       "      <th>WEATHER</th>\n",
       "      <th>UNDERINFL</th>\n",
       "      <th>SEVERITYCODE</th>\n",
       "      <th>month</th>\n",
       "      <th>year</th>\n",
       "    </tr>\n",
       "  </thead>\n",
       "  <tbody>\n",
       "    <tr>\n",
       "      <th>0</th>\n",
       "      <td>2013-03-14</td>\n",
       "      <td>Block</td>\n",
       "      <td>N</td>\n",
       "      <td>Daylight</td>\n",
       "      <td>Dry</td>\n",
       "      <td>Clear</td>\n",
       "      <td>N</td>\n",
       "      <td>2</td>\n",
       "      <td>3</td>\n",
       "      <td>2013</td>\n",
       "    </tr>\n",
       "    <tr>\n",
       "      <th>1</th>\n",
       "      <td>2006-01-15</td>\n",
       "      <td>Block</td>\n",
       "      <td>N</td>\n",
       "      <td>Dark - Street Lights On</td>\n",
       "      <td>Dry</td>\n",
       "      <td>Overcast</td>\n",
       "      <td>0</td>\n",
       "      <td>2</td>\n",
       "      <td>1</td>\n",
       "      <td>2006</td>\n",
       "    </tr>\n",
       "    <tr>\n",
       "      <th>2</th>\n",
       "      <td>2019-09-09</td>\n",
       "      <td>Intersection</td>\n",
       "      <td>N</td>\n",
       "      <td>Daylight</td>\n",
       "      <td>Wet</td>\n",
       "      <td>Overcast</td>\n",
       "      <td>N</td>\n",
       "      <td>1</td>\n",
       "      <td>9</td>\n",
       "      <td>2019</td>\n",
       "    </tr>\n",
       "    <tr>\n",
       "      <th>5</th>\n",
       "      <td>2005-07-07</td>\n",
       "      <td>Intersection</td>\n",
       "      <td>N</td>\n",
       "      <td>Daylight</td>\n",
       "      <td>Dry</td>\n",
       "      <td>Clear</td>\n",
       "      <td>0</td>\n",
       "      <td>2</td>\n",
       "      <td>7</td>\n",
       "      <td>2005</td>\n",
       "    </tr>\n",
       "    <tr>\n",
       "      <th>6</th>\n",
       "      <td>2020-07-31</td>\n",
       "      <td>Intersection</td>\n",
       "      <td>N</td>\n",
       "      <td>Daylight</td>\n",
       "      <td>Dry</td>\n",
       "      <td>Clear</td>\n",
       "      <td>N</td>\n",
       "      <td>1</td>\n",
       "      <td>7</td>\n",
       "      <td>2020</td>\n",
       "    </tr>\n",
       "  </tbody>\n",
       "</table>\n",
       "</div>"
      ],
      "text/plain": [
       "      INCDATE      ADDRTYPE HITPARKEDCAR  ... SEVERITYCODE month  year\n",
       "0  2013-03-14         Block            N  ...            2     3  2013\n",
       "1  2006-01-15         Block            N  ...            2     1  2006\n",
       "2  2019-09-09  Intersection            N  ...            1     9  2019\n",
       "5  2005-07-07  Intersection            N  ...            2     7  2005\n",
       "6  2020-07-31  Intersection            N  ...            1     7  2020\n",
       "\n",
       "[5 rows x 10 columns]"
      ]
     },
     "execution_count": 29,
     "metadata": {
      "tags": []
     },
     "output_type": "execute_result"
    }
   ],
   "source": [
    "analysis['month'] = pd.DatetimeIndex(analysis['INCDATE']).month\n",
    "analysis['year'] = pd.DatetimeIndex(analysis['INCDATE']).year\n",
    "analysis.head()"
   ]
  },
  {
   "cell_type": "code",
   "execution_count": 30,
   "metadata": {
    "colab": {
     "base_uri": "https://localhost:8080/",
     "height": 395
    },
    "id": "q0tHSJG-vpHF",
    "outputId": "255eae41-dabe-412a-9f14-3ce52c0bc14e"
   },
   "outputs": [
    {
     "data": {
      "image/png": "[encoded data removed]",
      "text/plain": [
       "<Figure size 1800x720 with 1 Axes>"
      ]
     },
     "metadata": {
      "tags": []
     },
     "output_type": "display_data"
    }
   ],
   "source": [
    "sns.set_style(\"dark\")\n",
    "sns.set_palette(\"husl\")\n",
    "monthly_accident = sns.displot(analysis, x=\"month\")\n",
    "monthly_accident.fig.set_size_inches(25,10)\n",
    "plt.title('Accident occurances month-wise', fontsize=18)\n",
    "plt.show()"
   ]
  },
  {
   "cell_type": "markdown",
   "metadata": {
    "id": "EKhg2tzGNz3A"
   },
   "source": [
    "First, we look at how the incidents are spread across all the months. At a glance we see that number of traffic accidents are more or less same in all months. However, it does peak in October."
   ]
  },
  {
   "cell_type": "code",
   "execution_count": 31,
   "metadata": {
    "colab": {
     "base_uri": "https://localhost:8080/",
     "height": 395
    },
    "id": "fexglea-tZ4v",
    "outputId": "32031886-db0d-41bc-dc88-075e4d425066"
   },
   "outputs": [
    {
     "data": {
      "image/png": "[encoded data removed]",
      "text/plain": [
       "<Figure size 1800x720 with 1 Axes>"
      ]
     },
     "metadata": {
      "tags": []
     },
     "output_type": "display_data"
    }
   ],
   "source": [
    "sns.set_style(\"dark\")\n",
    "sns.set_palette(\"Greens\", 1)\n",
    "yearly_accident = sns.displot(analysis, x=\"year\")\n",
    "yearly_accident.fig.set_size_inches(25,10)\n",
    "plt.title('Accident occurances year-wise', fontsize=18)\n",
    "plt.show()"
   ]
  },
  {
   "cell_type": "markdown",
   "metadata": {
    "id": "57Oi1WQnN3Wm"
   },
   "source": [
    "And then we look at the data year-wise. Since the data collection started at 2004, the number of traffic case incidents have been slowly decreasing which is a good sign."
   ]
  },
  {
   "cell_type": "code",
   "execution_count": 32,
   "metadata": {
    "colab": {
     "base_uri": "https://localhost:8080/",
     "height": 525
    },
    "id": "A1d_0dhBxijs",
    "outputId": "1f3f4162-4fff-463d-cbf3-b18ac6d5a4dd"
   },
   "outputs": [
    {
     "data": {
      "image/png": "[encoded data removed]",
      "text/plain": [
       "<Figure size 1080x576 with 1 Axes>"
      ]
     },
     "metadata": {
      "tags": []
     },
     "output_type": "display_data"
    }
   ],
   "source": [
    "sns.set_style(\"dark\")\n",
    "sns.set_palette(\"cool\", 1)\n",
    "addr = sns.displot(analysis, x=\"ADDRTYPE\")\n",
    "addr.fig.set_size_inches(15,8)\n",
    "plt.title('Accident occurances location-wise', fontsize=18)\n",
    "plt.show()"
   ]
  },
  {
   "cell_type": "markdown",
   "metadata": {
    "id": "3hpv_yZYN5pb"
   },
   "source": [
    "From the next histogram, we can conclude that most of the accidents take place in busy places as the number of accidents in Block area is way more than Intersections and alleys."
   ]
  },
  {
   "cell_type": "code",
   "execution_count": 33,
   "metadata": {
    "colab": {
     "base_uri": "https://localhost:8080/",
     "height": 502
    },
    "id": "FB5kM9rVDPYK",
    "outputId": "2811c49d-7497-4f2a-87ac-187e1156862f"
   },
   "outputs": [
    {
     "data": {
      "image/png": "[encoded data removed]",
      "text/plain": [
       "<Figure size 1800x720 with 1 Axes>"
      ]
     },
     "metadata": {
      "tags": []
     },
     "output_type": "display_data"
    }
   ],
   "source": [
    "sns.set_style(\"dark\")\n",
    "sns.set_palette(\"Purples\", 1)\n",
    "addr = sns.displot(analysis, x=\"LIGHTCOND\")\n",
    "addr.fig.set_size_inches(25,10)\n",
    "addr.set_xticklabels(rotation=45)\n",
    "plt.title('Accident occurances light-condition-wise', fontsize=18)\n",
    "plt.show()"
   ]
  },
  {
   "cell_type": "markdown",
   "metadata": {
    "id": "YxozdYftN9aF"
   },
   "source": [
    "In our next visualization, we look at the count of accidents on basis of the time of the day it took place. Majority of the traffic accidents took place at daylight. Less than half of it took place at night, out of which most were in places where there are traffic lights. It rises a question that since most accidents are taking place in well lit areas, does that mean majority accidents are due to not following traffic rules rather than uncontrolled situation?"
   ]
  },
  {
   "cell_type": "code",
   "execution_count": 34,
   "metadata": {
    "colab": {
     "base_uri": "https://localhost:8080/",
     "height": 456
    },
    "id": "0bUurR6vNW_7",
    "outputId": "e36be585-cebd-4a57-ace2-648d7170e0f6"
   },
   "outputs": [
    {
     "data": {
      "image/png": "[encoded data removed]",
      "text/plain": [
       "<Figure size 1800x720 with 1 Axes>"
      ]
     },
     "metadata": {
      "tags": []
     },
     "output_type": "display_data"
    }
   ],
   "source": [
    "sns.set_style(\"dark\")\n",
    "sns.set_palette(\"inferno\", 1)\n",
    "addr = sns.displot(analysis, x=\"WEATHER\")\n",
    "addr.fig.set_size_inches(25,10)\n",
    "addr.set_xticklabels(rotation=45)\n",
    "plt.title('Accident occurances weather-wise', fontsize=18)\n",
    "plt.show()"
   ]
  },
  {
   "cell_type": "markdown",
   "metadata": {
    "id": "dZoJXvM-OBkN"
   },
   "source": [
    "Then in the next graph, we look at the weather during the accidents. Majority of the traffic accidents took place on clear days. Only few cases took place in rainy days. This again rises the question, does that mean majority accidents are due to not following traffic rules rather than uncontrolled situation?"
   ]
  },
  {
   "cell_type": "code",
   "execution_count": 35,
   "metadata": {
    "colab": {
     "base_uri": "https://localhost:8080/",
     "height": 427
    },
    "id": "MrBXjzI2Rb6A",
    "outputId": "9df841e0-7731-46fc-ab5b-61ae7db3a32f"
   },
   "outputs": [
    {
     "data": {
      "image/png": "[encoded data removed]",
      "text/plain": [
       "<Figure size 1800x720 with 1 Axes>"
      ]
     },
     "metadata": {
      "tags": []
     },
     "output_type": "display_data"
    }
   ],
   "source": [
    "sns.set_style(\"dark\")\n",
    "sns.set_palette(\"gnuplot\", 1)\n",
    "addr = sns.displot(analysis, x=\"SEVERITYCODE\")\n",
    "addr.fig.set_size_inches(25,10)\n",
    "addr.set_xticklabels([\"injury\", \"prop damage\", \"fatality \", \"serious injury\", \"unknown\"], rotation=45)\n",
    "plt.title('Type of Accidents', fontsize=18)\n",
    "plt.show()"
   ]
  },
  {
   "cell_type": "markdown",
   "metadata": {
    "id": "m36XmMTrOD7O"
   },
   "source": [
    "In the last visualization, we look at the severity of each accidents. Most of the accidents are usually just property damages and in half of that number, injuries took place. There is also extremely low number of fatality cases which is a good sign."
   ]
  },
  {
   "cell_type": "markdown",
   "metadata": {
    "id": "ml4HZ82FOIeu"
   },
   "source": [
    "**3.2\tMachine Learning Model Selection**"
   ]
  },
  {
   "cell_type": "markdown",
   "metadata": {
    "id": "M4_SlGySUm_7"
   },
   "source": [
    "The Machine Learning models we will be using are – \n",
    "\n",
    "**•\tLogistic regression -**\n",
    "\n",
    "o\tDefinition: Logistic regression is a machine learning algorithm for classification. In this algorithm, the probabilities describing the possible outcomes of a single trial are modelled using a logistic function.\n",
    "\n",
    "o\tAdvantages: Logistic regression is designed for this purpose (classification) and is most useful for understanding the influence of several independent variables on a single outcome variable.\n",
    "\n",
    "o\tDisadvantages: Works only when the predicted variable is binary, assumes all predictors are independent of each other and assumes data is free of missing values.\n",
    "\n",
    "**•\tK-Nearest Neighbors –**\n",
    "\n",
    "o\tDefinition: Neighbors based classification is a type of lazy learning as it does not attempt to construct a general internal model, but simply stores instances of the training data. Classification is computed from a simple majority vote of the k nearest neighbors of each point.\n",
    "\n",
    "o\tAdvantages: This algorithm is simple to implement, robust to noisy training data, and effective if training data is large.\n",
    "\n",
    "o\tDisadvantages: Need to determine the value of K and the computation cost is high as it needs to compute the distance of each instance to all the training samples.\n",
    "\n",
    "**•\tDecision Tree -**\n",
    "\n",
    "o\tDefinition: Given a data of attributes together with its classes, a decision tree produces a sequence of rules that can be used to classify the data.\n",
    "\n",
    "o\tAdvantages: Decision Tree is simple to understand and visualize, requires little data preparation, and can handle both numerical and categorical data.\n",
    "\n",
    "o\tDisadvantages: Decision tree can create complex trees that do not generalize well, and decision trees can be unstable because small variations in the data might result in a completely different tree being generated.\n"
   ]
  },
  {
   "cell_type": "code",
   "execution_count": 36,
   "metadata": {
    "colab": {
     "base_uri": "https://localhost:8080/",
     "height": 206
    },
    "id": "gNcg0mldWajH",
    "outputId": "b213c46f-dc0d-4462-d686-cfae2df26389"
   },
   "outputs": [
    {
     "data": {
      "text/html": [
       "<div>\n",
       "<style scoped>\n",
       "    .dataframe tbody tr th:only-of-type {\n",
       "        vertical-align: middle;\n",
       "    }\n",
       "\n",
       "    .dataframe tbody tr th {\n",
       "        vertical-align: top;\n",
       "    }\n",
       "\n",
       "    .dataframe thead th {\n",
       "        text-align: right;\n",
       "    }\n",
       "</style>\n",
       "<table border=\"1\" class=\"dataframe\">\n",
       "  <thead>\n",
       "    <tr style=\"text-align: right;\">\n",
       "      <th></th>\n",
       "      <th>HITPARKEDCAR</th>\n",
       "      <th>LIGHTCOND</th>\n",
       "      <th>ROADCOND</th>\n",
       "      <th>WEATHER</th>\n",
       "      <th>UNDERINFL</th>\n",
       "    </tr>\n",
       "  </thead>\n",
       "  <tbody>\n",
       "    <tr>\n",
       "      <th>0</th>\n",
       "      <td>0</td>\n",
       "      <td>5</td>\n",
       "      <td>0</td>\n",
       "      <td>1</td>\n",
       "      <td>0</td>\n",
       "    </tr>\n",
       "    <tr>\n",
       "      <th>1</th>\n",
       "      <td>0</td>\n",
       "      <td>2</td>\n",
       "      <td>0</td>\n",
       "      <td>4</td>\n",
       "      <td>0</td>\n",
       "    </tr>\n",
       "    <tr>\n",
       "      <th>2</th>\n",
       "      <td>0</td>\n",
       "      <td>5</td>\n",
       "      <td>8</td>\n",
       "      <td>4</td>\n",
       "      <td>0</td>\n",
       "    </tr>\n",
       "    <tr>\n",
       "      <th>5</th>\n",
       "      <td>0</td>\n",
       "      <td>5</td>\n",
       "      <td>0</td>\n",
       "      <td>1</td>\n",
       "      <td>0</td>\n",
       "    </tr>\n",
       "    <tr>\n",
       "      <th>6</th>\n",
       "      <td>0</td>\n",
       "      <td>5</td>\n",
       "      <td>0</td>\n",
       "      <td>1</td>\n",
       "      <td>0</td>\n",
       "    </tr>\n",
       "  </tbody>\n",
       "</table>\n",
       "</div>"
      ],
      "text/plain": [
       "   HITPARKEDCAR  LIGHTCOND  ROADCOND  WEATHER  UNDERINFL\n",
       "0             0          5         0        1          0\n",
       "1             0          2         0        4          0\n",
       "2             0          5         8        4          0\n",
       "5             0          5         0        1          0\n",
       "6             0          5         0        1          0"
      ]
     },
     "execution_count": 36,
     "metadata": {
      "tags": []
     },
     "output_type": "execute_result"
    }
   ],
   "source": [
    "feature_df.head()"
   ]
  },
  {
   "cell_type": "code",
   "execution_count": 37,
   "metadata": {
    "colab": {
     "base_uri": "https://localhost:8080/",
     "height": 206
    },
    "id": "wRPsidv4Xqok",
    "outputId": "614ed47e-892e-45bf-fd52-4aefccae04a5"
   },
   "outputs": [
    {
     "data": {
      "text/html": [
       "<div>\n",
       "<style scoped>\n",
       "    .dataframe tbody tr th:only-of-type {\n",
       "        vertical-align: middle;\n",
       "    }\n",
       "\n",
       "    .dataframe tbody tr th {\n",
       "        vertical-align: top;\n",
       "    }\n",
       "\n",
       "    .dataframe thead th {\n",
       "        text-align: right;\n",
       "    }\n",
       "</style>\n",
       "<table border=\"1\" class=\"dataframe\">\n",
       "  <thead>\n",
       "    <tr style=\"text-align: right;\">\n",
       "      <th></th>\n",
       "      <th>HITPARKEDCAR</th>\n",
       "      <th>LIGHTCOND</th>\n",
       "      <th>ROADCOND</th>\n",
       "      <th>WEATHER</th>\n",
       "      <th>UNDERINFL</th>\n",
       "    </tr>\n",
       "  </thead>\n",
       "  <tbody>\n",
       "    <tr>\n",
       "      <th>0</th>\n",
       "      <td>0</td>\n",
       "      <td>5</td>\n",
       "      <td>0</td>\n",
       "      <td>1</td>\n",
       "      <td>0</td>\n",
       "    </tr>\n",
       "    <tr>\n",
       "      <th>1</th>\n",
       "      <td>0</td>\n",
       "      <td>2</td>\n",
       "      <td>0</td>\n",
       "      <td>4</td>\n",
       "      <td>0</td>\n",
       "    </tr>\n",
       "    <tr>\n",
       "      <th>2</th>\n",
       "      <td>0</td>\n",
       "      <td>5</td>\n",
       "      <td>8</td>\n",
       "      <td>4</td>\n",
       "      <td>0</td>\n",
       "    </tr>\n",
       "    <tr>\n",
       "      <th>5</th>\n",
       "      <td>0</td>\n",
       "      <td>5</td>\n",
       "      <td>0</td>\n",
       "      <td>1</td>\n",
       "      <td>0</td>\n",
       "    </tr>\n",
       "    <tr>\n",
       "      <th>6</th>\n",
       "      <td>0</td>\n",
       "      <td>5</td>\n",
       "      <td>0</td>\n",
       "      <td>1</td>\n",
       "      <td>0</td>\n",
       "    </tr>\n",
       "  </tbody>\n",
       "</table>\n",
       "</div>"
      ],
      "text/plain": [
       "   HITPARKEDCAR  LIGHTCOND  ROADCOND  WEATHER  UNDERINFL\n",
       "0             0          5         0        1          0\n",
       "1             0          2         0        4          0\n",
       "2             0          5         8        4          0\n",
       "5             0          5         0        1          0\n",
       "6             0          5         0        1          0"
      ]
     },
     "execution_count": 37,
     "metadata": {
      "tags": []
     },
     "output_type": "execute_result"
    }
   ],
   "source": [
    "X = feature_df\n",
    "# X = preprocessing.StandardScaler().fit(X).transform(X)\n",
    "X[0:5]"
   ]
  },
  {
   "cell_type": "code",
   "execution_count": 38,
   "metadata": {
    "colab": {
     "base_uri": "https://localhost:8080/",
     "height": 206
    },
    "id": "woxn1PPMXdgK",
    "outputId": "d9419c2d-a49d-4848-db30-35ed0db10550"
   },
   "outputs": [
    {
     "data": {
      "text/html": [
       "<div>\n",
       "<style scoped>\n",
       "    .dataframe tbody tr th:only-of-type {\n",
       "        vertical-align: middle;\n",
       "    }\n",
       "\n",
       "    .dataframe tbody tr th {\n",
       "        vertical-align: top;\n",
       "    }\n",
       "\n",
       "    .dataframe thead th {\n",
       "        text-align: right;\n",
       "    }\n",
       "</style>\n",
       "<table border=\"1\" class=\"dataframe\">\n",
       "  <thead>\n",
       "    <tr style=\"text-align: right;\">\n",
       "      <th></th>\n",
       "      <th>SEVERITYCODE</th>\n",
       "    </tr>\n",
       "  </thead>\n",
       "  <tbody>\n",
       "    <tr>\n",
       "      <th>0</th>\n",
       "      <td>1</td>\n",
       "    </tr>\n",
       "    <tr>\n",
       "      <th>1</th>\n",
       "      <td>1</td>\n",
       "    </tr>\n",
       "    <tr>\n",
       "      <th>2</th>\n",
       "      <td>0</td>\n",
       "    </tr>\n",
       "    <tr>\n",
       "      <th>5</th>\n",
       "      <td>1</td>\n",
       "    </tr>\n",
       "    <tr>\n",
       "      <th>6</th>\n",
       "      <td>0</td>\n",
       "    </tr>\n",
       "  </tbody>\n",
       "</table>\n",
       "</div>"
      ],
      "text/plain": [
       "   SEVERITYCODE\n",
       "0             1\n",
       "1             1\n",
       "2             0\n",
       "5             1\n",
       "6             0"
      ]
     },
     "execution_count": 38,
     "metadata": {
      "tags": []
     },
     "output_type": "execute_result"
    }
   ],
   "source": [
    "target_df.head()"
   ]
  },
  {
   "cell_type": "code",
   "execution_count": 39,
   "metadata": {
    "colab": {
     "base_uri": "https://localhost:8080/",
     "height": 35
    },
    "id": "grjQP_8wX4KH",
    "outputId": "ce363221-0346-4d05-8aa9-cf255f58bb16"
   },
   "outputs": [
    {
     "data": {
      "text/plain": [
       "array([1, 1, 0, 1, 0])"
      ]
     },
     "execution_count": 39,
     "metadata": {
      "tags": []
     },
     "output_type": "execute_result"
    }
   ],
   "source": [
    "y = target_df['SEVERITYCODE'].values\n",
    "y[0:5]"
   ]
  },
  {
   "cell_type": "code",
   "execution_count": 40,
   "metadata": {
    "colab": {
     "base_uri": "https://localhost:8080/",
     "height": 54
    },
    "id": "woFLz5TNWJFl",
    "outputId": "b1703f2e-4657-480d-a816-756c5bb670e0"
   },
   "outputs": [
    {
     "name": "stdout",
     "output_type": "stream",
     "text": [
      "Train set: (154347, 5) (154347,)\n",
      "Test set: (38587, 5) (38587,)\n"
     ]
    }
   ],
   "source": [
    "from sklearn.model_selection import train_test_split\n",
    "X_train, X_test, y_train, y_test = train_test_split(X, y, test_size=0.2, random_state=4)\n",
    "print ('Train set:', X_train.shape,  y_train.shape)\n",
    "print ('Test set:', X_test.shape,  y_test.shape)\n",
    "\n",
    "jss_list = []\n",
    "f1_list = []"
   ]
  },
  {
   "cell_type": "markdown",
   "metadata": {
    "id": "lOOly6t7Vbfr"
   },
   "source": [
    "##**4.Results**"
   ]
  },
  {
   "cell_type": "markdown",
   "metadata": {
    "id": "kNTj9V8GV6Mj"
   },
   "source": [
    "**4.1  Logistic regression**"
   ]
  },
  {
   "cell_type": "markdown",
   "metadata": {
    "id": "kF1iRYHodj2m"
   },
   "source": [
    "We used Logistic Regression from the scikit-learn library to run the Logistic Regression Classification model on our cleaned dataset. Using log_loss metric, we were able to decide on the best available parameters for our model. We used ‘liblinear’ as our Solver and we took C (regularization strength) value as ‘0.001’."
   ]
  },
  {
   "cell_type": "code",
   "execution_count": 41,
   "metadata": {
    "colab": {
     "base_uri": "https://localhost:8080/",
     "height": 403
    },
    "id": "IzFbp8P05qt0",
    "outputId": "12a419a2-d5f7-4fd6-abc7-040468dc87ea"
   },
   "outputs": [
    {
     "name": "stdout",
     "output_type": "stream",
     "text": [
      "Test 1: Accuracy at C = 0.1 when Solver = lbfgs is : 0.6051470625288512\n",
      "Test 2: Accuracy at C = 0.1 when Solver = saga is : 0.6051476700417242\n",
      "Test 3: Accuracy at C = 0.1 when Solver = liblinear is : 0.6051470077171213\n",
      "Test 4: Accuracy at C = 0.1 when Solver = newton-cg is : 0.605147062673419\n",
      "Test 5: Accuracy at C = 0.1 when Solver = sag is : 0.6051498114137713\n",
      "\n",
      "\n",
      "Test 6: Accuracy at C = 0.01 when Solver = lbfgs is : 0.6053105548374704\n",
      "Test 7: Accuracy at C = 0.01 when Solver = saga is : 0.6053104195434652\n",
      "Test 8: Accuracy at C = 0.01 when Solver = liblinear is : 0.6053111054081547\n",
      "Test 9: Accuracy at C = 0.01 when Solver = newton-cg is : 0.6053105983655177\n",
      "Test 10: Accuracy at C = 0.01 when Solver = sag is : 0.6053109036034255\n",
      "\n",
      "\n",
      "Test 11: Accuracy at C = 0.001 when Solver = lbfgs is : 0.6074006572290601\n",
      "Test 12: Accuracy at C = 0.001 when Solver = saga is : 0.6074006462902893\n",
      "Test 13: Accuracy at C = 0.001 when Solver = liblinear is : 0.6074777254561141\n",
      "Test 14: Accuracy at C = 0.001 when Solver = newton-cg is : 0.607400731307146\n",
      "Test 15: Accuracy at C = 0.001 when Solver = sag is : 0.6074009142894577\n",
      "\n",
      "\n"
     ]
    }
   ],
   "source": [
    "from sklearn.linear_model import LogisticRegression \n",
    "from sklearn.metrics import log_loss\n",
    "\n",
    "solvers = ['lbfgs', 'saga', 'liblinear', 'newton-cg', 'sag']\n",
    "regularization_val = [0.1, 0.01, 0.001]\n",
    "index = []\n",
    "accuracy_score = []\n",
    "iterations = 0\n",
    "\n",
    "for index1, c in enumerate(regularization_val):\n",
    "    for index2, solver in enumerate(solvers):\n",
    "        index.append(index1 + index2 *5)\n",
    "        iterations +=1\n",
    "        lr_model = LogisticRegression(C = c, solver = solver)\n",
    "        lr_model.fit(X_train, y_train)\n",
    "        lr_yhat = lr_model.predict(X_test)\n",
    "        y_prob = lr_model.predict_proba(X_test)\n",
    "        print('Test {}: Accuracy at C = {} when Solver = {} is : {}'.format(iterations, c, solver, log_loss(y_test, y_prob) ))\n",
    "        accuracy_score.append(log_loss(y_test, y_prob))\n",
    "                              \n",
    "    print('\\n')"
   ]
  },
  {
   "cell_type": "markdown",
   "metadata": {
    "id": "tophofALBkgL"
   },
   "source": [
    "From above we find out that the best parameters are C = 0.001 and Solver = liblinear "
   ]
  },
  {
   "cell_type": "code",
   "execution_count": 42,
   "metadata": {
    "colab": {
     "base_uri": "https://localhost:8080/",
     "height": 129
    },
    "id": "yLiPlmKJsr0O",
    "outputId": "a943d068-a011-49ed-f498-5371b58f8332"
   },
   "outputs": [
    {
     "name": "stdout",
     "output_type": "stream",
     "text": [
      "0.6882369710005961\n",
      "jaccard similarity score -  0.69\n",
      "f1 score -  0.56\n"
     ]
    },
    {
     "name": "stderr",
     "output_type": "stream",
     "text": [
      "/usr/local/lib/python3.6/dist-packages/sklearn/metrics/_classification.py:664: FutureWarning: jaccard_similarity_score has been deprecated and replaced with jaccard_score. It will be removed in version 0.23. This implementation has surprising behavior for binary and multiclass classification tasks.\n",
      "  FutureWarning)\n"
     ]
    }
   ],
   "source": [
    "from sklearn.linear_model import LogisticRegression\n",
    "from sklearn.metrics import jaccard_similarity_score, f1_score\n",
    "\n",
    "lr_model = LogisticRegression(C = 0.001, solver = 'liblinear')\n",
    "lr_model.fit(X_train, y_train)\n",
    "lr_yhat = lr_model.predict(X_test)\n",
    "\n",
    "jss = round(jaccard_similarity_score(y_test, lr_yhat), 2)\n",
    "jss_list.append(jss)\n",
    "f1 = round(f1_score(y_test, lr_yhat, average = 'weighted'), 2)\n",
    "f1_list.append(f1)\n",
    "\n",
    "print(lr_model.score(X_test, y_test))\n",
    "print(f\"jaccard similarity score - \", jss)\n",
    "print(f\"f1 score - \", f1)"
   ]
  },
  {
   "cell_type": "code",
   "execution_count": 51,
   "metadata": {
    "colab": {
     "base_uri": "https://localhost:8080/",
     "height": 557
    },
    "id": "sXJzK7aeIY1I",
    "outputId": "bc808baa-a6a3-49a9-ab58-dae5dec3427d"
   },
   "outputs": [
    {
     "name": "stdout",
     "output_type": "stream",
     "text": [
      "[[26543    27]\n",
      " [12003    14]]\n"
     ]
    },
    {
     "data": {
      "image/png": "[encoded data removed]",
      "text/plain": [
       "<Figure size 648x648 with 2 Axes>"
      ]
     },
     "metadata": {
      "tags": []
     },
     "output_type": "display_data"
    }
   ],
   "source": [
    "from sklearn import metrics\n",
    "cm = metrics.confusion_matrix(y_test, lr_yhat)\n",
    "print(cm)\n",
    "plt.figure(figsize=(9,9))\n",
    "sns.heatmap(cm, annot=True, fmt=\".3f\", linewidths=.5, square = True, cmap = 'Blues_r');\n",
    "plt.ylabel('Actual label');\n",
    "plt.xlabel('Predicted label');"
   ]
  },
  {
   "cell_type": "markdown",
   "metadata": {
    "id": "mGqFiQ--I-aO"
   },
   "source": [
    "**4.2 K-Nearest Neighbors**"
   ]
  },
  {
   "cell_type": "markdown",
   "metadata": {
    "id": "s88nUEHfjCDF"
   },
   "source": [
    "We used K-Nearest Neighbors from the scikit-learn library to run the K-Nearest Neighbors machine learning classifier on our cleaned dataset. Using accuracy_score metric, we were able to decide on the best available parameters for our model. We used 8 as K’s value as the highest elbow bend exists at 8."
   ]
  },
  {
   "cell_type": "code",
   "execution_count": 43,
   "metadata": {
    "colab": {
     "base_uri": "https://localhost:8080/",
     "height": 463
    },
    "id": "jt4NG77WJKHp",
    "outputId": "2a41140a-bbc7-475a-af27-6f5cfc17efd2"
   },
   "outputs": [
    {
     "name": "stdout",
     "output_type": "stream",
     "text": [
      "k = 1 has a Score = 0.6681524865887475 \n",
      "k = 2 has a Score = 0.6784409257003654 \n",
      "k = 3 has a Score = 0.6512815196827947 \n",
      "k = 4 has a Score = 0.6780262782802499 \n",
      "k = 5 has a Score = 0.668670795863892 \n",
      "k = 6 has a Score = 0.6783890947728509 \n",
      "k = 7 has a Score = 0.6707181175007126 \n",
      "k = 8 has a Score = 0.6803586700184 \n",
      "k = 9 has a Score = 0.6645761525902506 \n"
     ]
    },
    {
     "data": {
      "text/plain": [
       "Text(0, 0.5, 'Testing Accuracy Values')"
      ]
     },
     "execution_count": 43,
     "metadata": {
      "tags": []
     },
     "output_type": "execute_result"
    },
    {
     "data": {
      "image/png": "[encoded data removed]",
      "text/plain": [
       "<Figure size 432x288 with 1 Axes>"
      ]
     },
     "metadata": {
      "tags": []
     },
     "output_type": "display_data"
    }
   ],
   "source": [
    "from sklearn.neighbors import KNeighborsClassifier as knn\n",
    "from sklearn.metrics import accuracy_score\n",
    "\n",
    "ks = range(1, 10)\n",
    "mean_accuracy = []\n",
    "\n",
    "for n in ks:\n",
    "    knn_model  = knn(n_neighbors = n)\n",
    "    knn_model.fit(X_train, y_train)\n",
    "    knn_yhat = knn_model.predict(X_test)\n",
    "    mean_accuracy.append(accuracy_score(y_test, knn_yhat))\n",
    "\n",
    "for i in range(0, len(mean_accuracy)):\n",
    "    print(\"k = {} has a Score = {} \".format(i+1, mean_accuracy[i]))\n",
    "\n",
    "# Relation between k's and their respective accuracies\n",
    "\n",
    "plt.plot(ks, mean_accuracy)\n",
    "plt.xlabel('Values of K')\n",
    "plt.ylabel('Testing Accuracy Values')\n",
    "\n"
   ]
  },
  {
   "cell_type": "markdown",
   "metadata": {
    "id": "I-U0uOqBMgxh"
   },
   "source": [
    "Final Model with best value of k, which is 8"
   ]
  },
  {
   "cell_type": "code",
   "execution_count": 44,
   "metadata": {
    "colab": {
     "base_uri": "https://localhost:8080/",
     "height": 129
    },
    "id": "zVGKoLyoMePy",
    "outputId": "60864926-c93f-485b-dbff-0382856a2f40"
   },
   "outputs": [
    {
     "name": "stderr",
     "output_type": "stream",
     "text": [
      "/usr/local/lib/python3.6/dist-packages/sklearn/metrics/_classification.py:664: FutureWarning: jaccard_similarity_score has been deprecated and replaced with jaccard_score. It will be removed in version 0.23. This implementation has surprising behavior for binary and multiclass classification tasks.\n",
      "  FutureWarning)\n"
     ]
    },
    {
     "name": "stdout",
     "output_type": "stream",
     "text": [
      "0.6803586700184\n",
      "jaccard similarity score -  0.68\n",
      "f1 score -  0.58\n"
     ]
    }
   ],
   "source": [
    "knn_model = knn(n_neighbors = 8)\n",
    "knn_model.fit(X_train, y_train)\n",
    "knn_yhat = knn_model.predict(X_test)\n",
    "\n",
    "jss = round(jaccard_similarity_score(y_test, knn_yhat), 2)\n",
    "jss_list.append(jss)\n",
    "f1 = round(f1_score(y_test, knn_yhat, average = 'weighted'), 2)\n",
    "f1_list.append(f1)\n",
    "\n",
    "print(knn_model.score(X_test, y_test))\n",
    "print(f\"jaccard similarity score - \", jss)\n",
    "print(f\"f1 score - \", f1)"
   ]
  },
  {
   "cell_type": "markdown",
   "metadata": {
    "id": "ajuP-3o_F1yq"
   },
   "source": [
    "**4.3  Decision Tree**"
   ]
  },
  {
   "cell_type": "markdown",
   "metadata": {
    "id": "ytrwpO50kInQ"
   },
   "source": [
    "We used Decision Tree Classifier from the scikit-learn library to run the Decision Tree Classification model on our cleaned dataset. Using jaccard_similarity_score and f1_score metric, we were able to decide on the best available parameter for our model. We found out, our model should have a depth of ‘3’ to perform the best."
   ]
  },
  {
   "cell_type": "code",
   "execution_count": 45,
   "metadata": {
    "colab": {
     "base_uri": "https://localhost:8080/",
     "height": 463
    },
    "id": "RBgnOyW6DEVw",
    "outputId": "431d9be8-b81e-49c0-ffcf-d64a8b9e655d"
   },
   "outputs": [
    {
     "name": "stderr",
     "output_type": "stream",
     "text": [
      "/usr/local/lib/python3.6/dist-packages/sklearn/metrics/_classification.py:664: FutureWarning: jaccard_similarity_score has been deprecated and replaced with jaccard_score. It will be removed in version 0.23. This implementation has surprising behavior for binary and multiclass classification tasks.\n",
      "  FutureWarning)\n",
      "/usr/local/lib/python3.6/dist-packages/sklearn/metrics/_classification.py:664: FutureWarning: jaccard_similarity_score has been deprecated and replaced with jaccard_score. It will be removed in version 0.23. This implementation has surprising behavior for binary and multiclass classification tasks.\n",
      "  FutureWarning)\n",
      "/usr/local/lib/python3.6/dist-packages/sklearn/metrics/_classification.py:664: FutureWarning: jaccard_similarity_score has been deprecated and replaced with jaccard_score. It will be removed in version 0.23. This implementation has surprising behavior for binary and multiclass classification tasks.\n",
      "  FutureWarning)\n",
      "/usr/local/lib/python3.6/dist-packages/sklearn/metrics/_classification.py:664: FutureWarning: jaccard_similarity_score has been deprecated and replaced with jaccard_score. It will be removed in version 0.23. This implementation has surprising behavior for binary and multiclass classification tasks.\n",
      "  FutureWarning)\n",
      "/usr/local/lib/python3.6/dist-packages/sklearn/metrics/_classification.py:664: FutureWarning: jaccard_similarity_score has been deprecated and replaced with jaccard_score. It will be removed in version 0.23. This implementation has surprising behavior for binary and multiclass classification tasks.\n",
      "  FutureWarning)\n",
      "/usr/local/lib/python3.6/dist-packages/sklearn/metrics/_classification.py:664: FutureWarning: jaccard_similarity_score has been deprecated and replaced with jaccard_score. It will be removed in version 0.23. This implementation has surprising behavior for binary and multiclass classification tasks.\n",
      "  FutureWarning)\n",
      "/usr/local/lib/python3.6/dist-packages/sklearn/metrics/_classification.py:664: FutureWarning: jaccard_similarity_score has been deprecated and replaced with jaccard_score. It will be removed in version 0.23. This implementation has surprising behavior for binary and multiclass classification tasks.\n",
      "  FutureWarning)\n",
      "/usr/local/lib/python3.6/dist-packages/sklearn/metrics/_classification.py:664: FutureWarning: jaccard_similarity_score has been deprecated and replaced with jaccard_score. It will be removed in version 0.23. This implementation has surprising behavior for binary and multiclass classification tasks.\n",
      "  FutureWarning)\n",
      "/usr/local/lib/python3.6/dist-packages/sklearn/metrics/_classification.py:664: FutureWarning: jaccard_similarity_score has been deprecated and replaced with jaccard_score. It will be removed in version 0.23. This implementation has surprising behavior for binary and multiclass classification tasks.\n",
      "  FutureWarning)\n"
     ]
    },
    {
     "data": {
      "text/html": [
       "<div>\n",
       "<style scoped>\n",
       "    .dataframe tbody tr th:only-of-type {\n",
       "        vertical-align: middle;\n",
       "    }\n",
       "\n",
       "    .dataframe tbody tr th {\n",
       "        vertical-align: top;\n",
       "    }\n",
       "\n",
       "    .dataframe thead th {\n",
       "        text-align: right;\n",
       "    }\n",
       "</style>\n",
       "<table border=\"1\" class=\"dataframe\">\n",
       "  <thead>\n",
       "    <tr style=\"text-align: right;\">\n",
       "      <th>Evaluation Metrices</th>\n",
       "      <th>d = 1</th>\n",
       "      <th>d = 2</th>\n",
       "      <th>d = 3</th>\n",
       "      <th>d = 4</th>\n",
       "      <th>d = 5</th>\n",
       "      <th>d = 6</th>\n",
       "      <th>d = 7</th>\n",
       "      <th>d = 8</th>\n",
       "      <th>d = 9</th>\n",
       "    </tr>\n",
       "  </thead>\n",
       "  <tbody>\n",
       "    <tr>\n",
       "      <th>Jaccard</th>\n",
       "      <td>0.688574</td>\n",
       "      <td>0.688574</td>\n",
       "      <td>0.688574</td>\n",
       "      <td>0.688470</td>\n",
       "      <td>0.688548</td>\n",
       "      <td>0.688522</td>\n",
       "      <td>0.688289</td>\n",
       "      <td>0.688211</td>\n",
       "      <td>0.688237</td>\n",
       "    </tr>\n",
       "    <tr>\n",
       "      <th>F1</th>\n",
       "      <td>0.561579</td>\n",
       "      <td>0.561579</td>\n",
       "      <td>0.561579</td>\n",
       "      <td>0.561529</td>\n",
       "      <td>0.561806</td>\n",
       "      <td>0.561746</td>\n",
       "      <td>0.562158</td>\n",
       "      <td>0.562405</td>\n",
       "      <td>0.562418</td>\n",
       "    </tr>\n",
       "  </tbody>\n",
       "</table>\n",
       "</div>"
      ],
      "text/plain": [
       "Evaluation Metrices     d = 1     d = 2     d = 3  ...     d = 7     d = 8     d = 9\n",
       "Jaccard              0.688574  0.688574  0.688574  ...  0.688289  0.688211  0.688237\n",
       "F1                   0.561579  0.561579  0.561579  ...  0.562158  0.562405  0.562418\n",
       "\n",
       "[2 rows x 9 columns]"
      ]
     },
     "execution_count": 45,
     "metadata": {
      "tags": []
     },
     "output_type": "execute_result"
    }
   ],
   "source": [
    "from sklearn.tree import DecisionTreeClassifier \n",
    "from sklearn.metrics import jaccard_similarity_score\n",
    "from sklearn.metrics import f1_score\n",
    "\n",
    "depth_range = range(1, 10)\n",
    "jaccard_similarity_score_ = []\n",
    "f1_score_ = []\n",
    "\n",
    "for d in depth_range:\n",
    "    dt = DecisionTreeClassifier(criterion = 'gini', max_depth = d)\n",
    "    dt.fit(X_train, y_train)\n",
    "    dt_yhat = dt.predict(X_test)\n",
    "    jaccard_similarity_score_.append(jaccard_similarity_score(y_test, dt_yhat))\n",
    "    f1_score_.append(f1_score(y_test, dt_yhat, average = 'weighted'))\n",
    "\n",
    "result = pd.DataFrame([jaccard_similarity_score_, f1_score_], index = ['Jaccard', 'F1'], columns = ['d = 1','d = 2','d = 3','d = 4','d = 5','d = 6','d = 7','d = 8','d = 9'])\n",
    "result.columns.name = 'Evaluation Metrices'\n",
    "result"
   ]
  },
  {
   "cell_type": "markdown",
   "metadata": {
    "id": "lzdZOvlWIJwN"
   },
   "source": [
    "According to above table, our Main Model should have a depth of 3"
   ]
  },
  {
   "cell_type": "code",
   "execution_count": 46,
   "metadata": {
    "colab": {
     "base_uri": "https://localhost:8080/",
     "height": 129
    },
    "id": "0gXE4xmdG6pl",
    "outputId": "508937e9-9464-40a7-f012-ec5e83a6f7f5"
   },
   "outputs": [
    {
     "name": "stdout",
     "output_type": "stream",
     "text": [
      "0.68857387202944\n",
      "jaccard similarity score -  0.69\n",
      "f1 score -  0.56\n"
     ]
    },
    {
     "name": "stderr",
     "output_type": "stream",
     "text": [
      "/usr/local/lib/python3.6/dist-packages/sklearn/metrics/_classification.py:664: FutureWarning: jaccard_similarity_score has been deprecated and replaced with jaccard_score. It will be removed in version 0.23. This implementation has surprising behavior for binary and multiclass classification tasks.\n",
      "  FutureWarning)\n"
     ]
    }
   ],
   "source": [
    "dt_model = DecisionTreeClassifier(criterion = 'gini', max_depth = 3)\n",
    "dt_model.fit(X_train, y_train)\n",
    "\n",
    "jss = round(jaccard_similarity_score(y_test, dt_yhat), 2)\n",
    "jss_list.append(jss)\n",
    "f1 = round(f1_score(y_test, dt_yhat, average = 'weighted'), 2)\n",
    "f1_list.append(f1)\n",
    "\n",
    "print(dt_model.score(X_test, y_test))\n",
    "print(f\"jaccard similarity score - \", jss)\n",
    "print(f\"f1 score - \", f1)"
   ]
  },
  {
   "cell_type": "code",
   "execution_count": 52,
   "metadata": {
    "colab": {
     "base_uri": "https://localhost:8080/",
     "height": 557
    },
    "id": "_xQ8VRtcJIAi",
    "outputId": "6ab8bb37-bc97-45b8-cabd-152a50d222c2"
   },
   "outputs": [
    {
     "name": "stdout",
     "output_type": "stream",
     "text": [
      "[[26536    34]\n",
      " [11996    21]]\n"
     ]
    },
    {
     "data": {
      "image/png": "[encoded data removed]",
      "text/plain": [
       "<Figure size 648x648 with 2 Axes>"
      ]
     },
     "metadata": {
      "tags": []
     },
     "output_type": "display_data"
    }
   ],
   "source": [
    "from sklearn import metrics\n",
    "cm = metrics.confusion_matrix(y_test, dt_yhat)\n",
    "print(cm)\n",
    "plt.figure(figsize=(9,9))\n",
    "sns.heatmap(cm, annot=True, fmt=\".3f\", linewidths=.5, square = True, cmap = 'Blues_r');\n",
    "plt.ylabel('Actual label');\n",
    "plt.xlabel('Predicted label');"
   ]
  },
  {
   "cell_type": "markdown",
   "metadata": {
    "id": "bBy38ZbvlXaO"
   },
   "source": [
    "## **5.\tDiscussion**"
   ]
  },
  {
   "cell_type": "markdown",
   "metadata": {
    "id": "udNsmysS-2RU"
   },
   "source": [
    "The metrics we used to compare the accuracy of our models are the Jaccard Similarity Score and F1 Score. \n",
    "\n",
    "The Jaccard similarity index (sometimes called the Jaccard similarity coefficient) compares members for two sets to see which members are shared and which are distinct. It is a measure of similarity for the two sets of data, with a range from 0% to 100%. The higher the percentage, the more similar the two populations. Although it is easy to interpret, it is extremely sensitive to small samples sizes and may give erroneous results, especially with exceedingly small samples or data sets with missing observations.\n",
    "\n",
    "In statistical analysis of binary classification, the F1 score (also F-score or F-measure) is a measure of a test's accuracy. It is calculated from the precision and recall of the test, where the precision is the number of correctly identified positive results divided by the number of all positive results, including those not identified correctly, and the recall is the number of correctly identified positive results divided by the number of all samples that should have been identified as positive.\n",
    "\n",
    "While all our models performed almost equally in those tests, KNN took too much time to yield result (almost 2 mins). Also, when it came to model score, all the models performed closed to each other. But score of Decision Tree was the highest, 0.6886 compared to KNN’s 0.6803 and Logistic Regression’s 0.6882.\n"
   ]
  },
  {
   "cell_type": "code",
   "execution_count": 47,
   "metadata": {
    "colab": {
     "base_uri": "https://localhost:8080/",
     "height": 143
    },
    "id": "5QPhr4F9IjKP",
    "outputId": "26374a82-7450-4334-d281-98005dbcfc48"
   },
   "outputs": [
    {
     "data": {
      "text/html": [
       "<div>\n",
       "<style scoped>\n",
       "    .dataframe tbody tr th:only-of-type {\n",
       "        vertical-align: middle;\n",
       "    }\n",
       "\n",
       "    .dataframe tbody tr th {\n",
       "        vertical-align: top;\n",
       "    }\n",
       "\n",
       "    .dataframe thead th {\n",
       "        text-align: right;\n",
       "    }\n",
       "</style>\n",
       "<table border=\"1\" class=\"dataframe\">\n",
       "  <thead>\n",
       "    <tr style=\"text-align: right;\">\n",
       "      <th>Algorithm</th>\n",
       "      <th>Jaccard</th>\n",
       "      <th>F1-score</th>\n",
       "    </tr>\n",
       "  </thead>\n",
       "  <tbody>\n",
       "    <tr>\n",
       "      <th>Logistic Regression</th>\n",
       "      <td>0.69</td>\n",
       "      <td>0.56</td>\n",
       "    </tr>\n",
       "    <tr>\n",
       "      <th>KNN</th>\n",
       "      <td>0.68</td>\n",
       "      <td>0.58</td>\n",
       "    </tr>\n",
       "    <tr>\n",
       "      <th>Decision Tree</th>\n",
       "      <td>0.69</td>\n",
       "      <td>0.56</td>\n",
       "    </tr>\n",
       "  </tbody>\n",
       "</table>\n",
       "</div>"
      ],
      "text/plain": [
       "Algorithm            Jaccard  F1-score\n",
       "Logistic Regression     0.69      0.56\n",
       "KNN                     0.68      0.58\n",
       "Decision Tree           0.69      0.56"
      ]
     },
     "execution_count": 47,
     "metadata": {
      "tags": []
     },
     "output_type": "execute_result"
    }
   ],
   "source": [
    "columns = ['Logistic Regression', 'KNN', 'Decision Tree']\n",
    "index = ['Jaccard', 'F1-score']\n",
    "\n",
    "accuracy_df = pd.DataFrame([jss_list, f1_list], index = index, columns = columns)\n",
    "\n",
    "accuracy = accuracy_df.transpose()\n",
    "accuracy.columns.name = 'Algorithm'\n",
    "accuracy"
   ]
  },
  {
   "cell_type": "markdown",
   "metadata": {
    "id": "TwngeW0Rw2uv"
   },
   "source": [
    "## **6.Conclusion**"
   ]
  },
  {
   "cell_type": "markdown",
   "metadata": {
    "id": "jgmWT-Rmw65R"
   },
   "source": [
    "We achieved 68% accuracy using Logistic Regression, KNN, and Decision Tree. However, the performance is not up to the mark. It could have been better if we were able to use more features with more categorized values. Another thing I would say that it is not appropriate to simplify the severity values into binary classes. If we could create a range, then we might have been able to predict severity of traffic cases better using regression models."
   ]
  },
  {
   "cell_type": "code",
   "execution_count": 47,
   "metadata": {
    "id": "VmmnzeAJOJkU"
   },
   "outputs": [],
   "source": []
  }
 ],
 "metadata": {
  "colab": {
   "collapsed_sections": [
    "Mh3Az5aiGajv",
    "K4AUDkR2HXcD",
    "HPSOcxaZR5Dd"
   ],
   "name": "Capstone Project.ipynb",
   "provenance": []
  },
  "kernelspec": {
   "display_name": "Python 3",
   "language": "python",
   "name": "python3"
  },
  "language_info": {
   "codemirror_mode": {
    "name": "ipython",
    "version": 3
   },
   "file_extension": ".py",
   "mimetype": "text/x-python",
   "name": "python",
   "nbconvert_exporter": "python",
   "pygments_lexer": "ipython3",
   "version": "3.8.5"
  }
 },
 "nbformat": 4,
 "nbformat_minor": 1
}
